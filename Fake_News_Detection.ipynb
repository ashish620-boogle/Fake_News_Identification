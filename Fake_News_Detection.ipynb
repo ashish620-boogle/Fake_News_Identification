{
  "cells": [
    {
      "cell_type": "markdown",
      "metadata": {
        "id": "view-in-github",
        "colab_type": "text"
      },
      "source": [
        "<a href=\"https://colab.research.google.com/github/ashish620-boogle/Fake_News_Identification/blob/main/Fake_News_Detection.ipynb\" target=\"_parent\"><img src=\"https://colab.research.google.com/assets/colab-badge.svg\" alt=\"Open In Colab\"/></a>"
      ]
    },
    {
      "cell_type": "markdown",
      "metadata": {
        "id": "9K6L0czohq7K"
      },
      "source": [
        "# Fake News Detection \n",
        "The aim of this module is to create an artificial neural network for classifying a news into agreeable, disagreeable, unrelatable and discussable.\n",
        "\n",
        "In this module we will use the `FNC-1 Dataset`. The model we will be using will be from the research paper: [On the Benefit of Combining Neural, Statistical and External Features for Fake News Identification](https://arxiv.org/abs/1712.03935). "
      ]
    },
    {
      "cell_type": "markdown",
      "metadata": {
        "id": "ZDD2DrtYREj1"
      },
      "source": [
        "## Dataset\n",
        "[FNC-1 Dataset](https://github.com/FakeNewsChallenge/fnc-1)\n",
        "\n",
        "## Stance Detection dataset for FNC-1\n",
        "\n",
        "For details of the task, see [FakeNewsChallenge.org](http://fakenewschallenge.org)\n",
        "\n",
        "\n",
        "The data provided is `(headline, body, stance)` instances, where `stance` is one of `{unrelated, discuss, agree, disagree}`. The dataset is provided as two CSVs:\n",
        "\n",
        "\n",
        "#### `train_bodies.csv`\n",
        "\n",
        "This file contains the body text of articles (the `articleBody` column) with corresponding IDs (`Body ID`)\n",
        "\n",
        "#### `train_stances.csv`\n",
        "\n",
        "This file contains the labeled stances (the `Stance` column) for pairs of article headlines (`Headline`) and article bodies (`Body ID`, referring to entries in `train_bodies.csv`).\n",
        "\n",
        "#### Distribution of the data\n",
        "\n",
        "The distribution of `Stance` classes in `train_stances.csv` is as follows:\n",
        "\n",
        "|   rows |   unrelated |   discuss |     agree |   disagree |\n",
        "|-------:|------------:|----------:|----------:|-----------:|\n",
        "|  49972 |    0.73131  |  0.17828  | 0.0736012 |  0.0168094 |\n",
        "\n",
        "Credits:\n",
        "\n",
        "- Edward Misback\n",
        "- Craig Pfeifer"
      ]
    },
    {
      "cell_type": "code",
      "execution_count": null,
      "metadata": {
        "colab": {
          "base_uri": "https://localhost:8080/"
        },
        "id": "rRXIVaeOOA0K",
        "outputId": "59187096-d7d3-46d8-f8c1-1bc6d73dc293"
      },
      "outputs": [
        {
          "output_type": "stream",
          "name": "stdout",
          "text": [
            "Sat Oct 15 10:51:10 2022       \n",
            "+-----------------------------------------------------------------------------+\n",
            "| NVIDIA-SMI 460.32.03    Driver Version: 460.32.03    CUDA Version: 11.2     |\n",
            "|-------------------------------+----------------------+----------------------+\n",
            "| GPU  Name        Persistence-M| Bus-Id        Disp.A | Volatile Uncorr. ECC |\n",
            "| Fan  Temp  Perf  Pwr:Usage/Cap|         Memory-Usage | GPU-Util  Compute M. |\n",
            "|                               |                      |               MIG M. |\n",
            "|===============================+======================+======================|\n",
            "|   0  Tesla T4            Off  | 00000000:00:04.0 Off |                    0 |\n",
            "| N/A   68C    P8    11W /  70W |      0MiB / 15109MiB |      0%      Default |\n",
            "|                               |                      |                  N/A |\n",
            "+-------------------------------+----------------------+----------------------+\n",
            "                                                                               \n",
            "+-----------------------------------------------------------------------------+\n",
            "| Processes:                                                                  |\n",
            "|  GPU   GI   CI        PID   Type   Process name                  GPU Memory |\n",
            "|        ID   ID                                                   Usage      |\n",
            "|=============================================================================|\n",
            "|  No running processes found                                                 |\n",
            "+-----------------------------------------------------------------------------+\n"
          ]
        }
      ],
      "source": [
        "!nvidia-smi"
      ]
    },
    {
      "cell_type": "markdown",
      "metadata": {
        "id": "EeN8cmF0zQHz"
      },
      "source": [
        "## Getting our data ready"
      ]
    },
    {
      "cell_type": "code",
      "execution_count": null,
      "metadata": {
        "id": "DhrUxzoEJw4k"
      },
      "outputs": [],
      "source": [
        "!mkdir train_data\n",
        "!mkdir test_data\n",
        "!wget https://raw.githubusercontent.com/ashish620-boogle/Fake_News_detection/master/train_bodies.csv\n",
        "!wget https://raw.githubusercontent.com/ashish620-boogle/Fake_News_detection/master/train_stances.csv\n",
        "!wget https://raw.githubusercontent.com/ashish620-boogle/Fake_News_detection/master/test_bodies.csv\n",
        "!wget https://raw.githubusercontent.com/ashish620-boogle/Fake_News_detection/master/test_stances_unlabeled.csv\n",
        "!mv test_bodies.csv test_data\n",
        "!mv train_bodies.csv train_data\n",
        "!mv train_stances.csv train_data\n",
        "!mv test_stances_unlabeled.csv test_data"
      ]
    },
    {
      "cell_type": "code",
      "execution_count": null,
      "metadata": {
        "id": "rfNosWoRpYNX"
      },
      "outputs": [],
      "source": [
        "import pandas as pd\n",
        "df1 = pd.read_csv('train_data/train_bodies.csv')\n",
        "df2 = pd.read_csv('train_data/train_stances.csv')\n",
        "df1.columns = df1.columns.str.replace(' ','_')\n",
        "df2.columns = df2.columns.str.replace(' ','_')"
      ]
    },
    {
      "cell_type": "code",
      "execution_count": null,
      "metadata": {
        "colab": {
          "base_uri": "https://localhost:8080/",
          "height": 424
        },
        "id": "oKil6U9Ap7Lq",
        "outputId": "38d0a56b-9870-4a35-c030-82365ff13b20"
      },
      "outputs": [
        {
          "output_type": "execute_result",
          "data": {
            "text/plain": [
              "      Body_ID                                        articleBody\n",
              "0           0  A small meteorite crashed into a wooded area i...\n",
              "1           4  Last week we hinted at what was to come as Ebo...\n",
              "2           5  (NEWSER) – Wonder how long a Quarter Pounder w...\n",
              "3           6  Posting photos of a gun-toting child online, I...\n",
              "4           7  At least 25 suspected Boko Haram insurgents we...\n",
              "...       ...                                                ...\n",
              "1678     2528  Intelligence agencies hunting for identity of ...\n",
              "1679     2529  While Daleks \"know no fear\" and \"must not fear...\n",
              "1680     2530  More than 200 schoolgirls were kidnapped in Ap...\n",
              "1681     2531  A Guantanamo Bay prisoner released last year a...\n",
              "1682     2532  ANN ARBOR, Mich. – A pizza delivery man in Mic...\n",
              "\n",
              "[1683 rows x 2 columns]"
            ],
            "text/html": [
              "\n",
              "  <div id=\"df-b50f4943-e698-481c-ad1d-4c6902968e24\">\n",
              "    <div class=\"colab-df-container\">\n",
              "      <div>\n",
              "<style scoped>\n",
              "    .dataframe tbody tr th:only-of-type {\n",
              "        vertical-align: middle;\n",
              "    }\n",
              "\n",
              "    .dataframe tbody tr th {\n",
              "        vertical-align: top;\n",
              "    }\n",
              "\n",
              "    .dataframe thead th {\n",
              "        text-align: right;\n",
              "    }\n",
              "</style>\n",
              "<table border=\"1\" class=\"dataframe\">\n",
              "  <thead>\n",
              "    <tr style=\"text-align: right;\">\n",
              "      <th></th>\n",
              "      <th>Body_ID</th>\n",
              "      <th>articleBody</th>\n",
              "    </tr>\n",
              "  </thead>\n",
              "  <tbody>\n",
              "    <tr>\n",
              "      <th>0</th>\n",
              "      <td>0</td>\n",
              "      <td>A small meteorite crashed into a wooded area i...</td>\n",
              "    </tr>\n",
              "    <tr>\n",
              "      <th>1</th>\n",
              "      <td>4</td>\n",
              "      <td>Last week we hinted at what was to come as Ebo...</td>\n",
              "    </tr>\n",
              "    <tr>\n",
              "      <th>2</th>\n",
              "      <td>5</td>\n",
              "      <td>(NEWSER) – Wonder how long a Quarter Pounder w...</td>\n",
              "    </tr>\n",
              "    <tr>\n",
              "      <th>3</th>\n",
              "      <td>6</td>\n",
              "      <td>Posting photos of a gun-toting child online, I...</td>\n",
              "    </tr>\n",
              "    <tr>\n",
              "      <th>4</th>\n",
              "      <td>7</td>\n",
              "      <td>At least 25 suspected Boko Haram insurgents we...</td>\n",
              "    </tr>\n",
              "    <tr>\n",
              "      <th>...</th>\n",
              "      <td>...</td>\n",
              "      <td>...</td>\n",
              "    </tr>\n",
              "    <tr>\n",
              "      <th>1678</th>\n",
              "      <td>2528</td>\n",
              "      <td>Intelligence agencies hunting for identity of ...</td>\n",
              "    </tr>\n",
              "    <tr>\n",
              "      <th>1679</th>\n",
              "      <td>2529</td>\n",
              "      <td>While Daleks \"know no fear\" and \"must not fear...</td>\n",
              "    </tr>\n",
              "    <tr>\n",
              "      <th>1680</th>\n",
              "      <td>2530</td>\n",
              "      <td>More than 200 schoolgirls were kidnapped in Ap...</td>\n",
              "    </tr>\n",
              "    <tr>\n",
              "      <th>1681</th>\n",
              "      <td>2531</td>\n",
              "      <td>A Guantanamo Bay prisoner released last year a...</td>\n",
              "    </tr>\n",
              "    <tr>\n",
              "      <th>1682</th>\n",
              "      <td>2532</td>\n",
              "      <td>ANN ARBOR, Mich. – A pizza delivery man in Mic...</td>\n",
              "    </tr>\n",
              "  </tbody>\n",
              "</table>\n",
              "<p>1683 rows × 2 columns</p>\n",
              "</div>\n",
              "      <button class=\"colab-df-convert\" onclick=\"convertToInteractive('df-b50f4943-e698-481c-ad1d-4c6902968e24')\"\n",
              "              title=\"Convert this dataframe to an interactive table.\"\n",
              "              style=\"display:none;\">\n",
              "        \n",
              "  <svg xmlns=\"http://www.w3.org/2000/svg\" height=\"24px\"viewBox=\"0 0 24 24\"\n",
              "       width=\"24px\">\n",
              "    <path d=\"M0 0h24v24H0V0z\" fill=\"none\"/>\n",
              "    <path d=\"M18.56 5.44l.94 2.06.94-2.06 2.06-.94-2.06-.94-.94-2.06-.94 2.06-2.06.94zm-11 1L8.5 8.5l.94-2.06 2.06-.94-2.06-.94L8.5 2.5l-.94 2.06-2.06.94zm10 10l.94 2.06.94-2.06 2.06-.94-2.06-.94-.94-2.06-.94 2.06-2.06.94z\"/><path d=\"M17.41 7.96l-1.37-1.37c-.4-.4-.92-.59-1.43-.59-.52 0-1.04.2-1.43.59L10.3 9.45l-7.72 7.72c-.78.78-.78 2.05 0 2.83L4 21.41c.39.39.9.59 1.41.59.51 0 1.02-.2 1.41-.59l7.78-7.78 2.81-2.81c.8-.78.8-2.07 0-2.86zM5.41 20L4 18.59l7.72-7.72 1.47 1.35L5.41 20z\"/>\n",
              "  </svg>\n",
              "      </button>\n",
              "      \n",
              "  <style>\n",
              "    .colab-df-container {\n",
              "      display:flex;\n",
              "      flex-wrap:wrap;\n",
              "      gap: 12px;\n",
              "    }\n",
              "\n",
              "    .colab-df-convert {\n",
              "      background-color: #E8F0FE;\n",
              "      border: none;\n",
              "      border-radius: 50%;\n",
              "      cursor: pointer;\n",
              "      display: none;\n",
              "      fill: #1967D2;\n",
              "      height: 32px;\n",
              "      padding: 0 0 0 0;\n",
              "      width: 32px;\n",
              "    }\n",
              "\n",
              "    .colab-df-convert:hover {\n",
              "      background-color: #E2EBFA;\n",
              "      box-shadow: 0px 1px 2px rgba(60, 64, 67, 0.3), 0px 1px 3px 1px rgba(60, 64, 67, 0.15);\n",
              "      fill: #174EA6;\n",
              "    }\n",
              "\n",
              "    [theme=dark] .colab-df-convert {\n",
              "      background-color: #3B4455;\n",
              "      fill: #D2E3FC;\n",
              "    }\n",
              "\n",
              "    [theme=dark] .colab-df-convert:hover {\n",
              "      background-color: #434B5C;\n",
              "      box-shadow: 0px 1px 3px 1px rgba(0, 0, 0, 0.15);\n",
              "      filter: drop-shadow(0px 1px 2px rgba(0, 0, 0, 0.3));\n",
              "      fill: #FFFFFF;\n",
              "    }\n",
              "  </style>\n",
              "\n",
              "      <script>\n",
              "        const buttonEl =\n",
              "          document.querySelector('#df-b50f4943-e698-481c-ad1d-4c6902968e24 button.colab-df-convert');\n",
              "        buttonEl.style.display =\n",
              "          google.colab.kernel.accessAllowed ? 'block' : 'none';\n",
              "\n",
              "        async function convertToInteractive(key) {\n",
              "          const element = document.querySelector('#df-b50f4943-e698-481c-ad1d-4c6902968e24');\n",
              "          const dataTable =\n",
              "            await google.colab.kernel.invokeFunction('convertToInteractive',\n",
              "                                                     [key], {});\n",
              "          if (!dataTable) return;\n",
              "\n",
              "          const docLinkHtml = 'Like what you see? Visit the ' +\n",
              "            '<a target=\"_blank\" href=https://colab.research.google.com/notebooks/data_table.ipynb>data table notebook</a>'\n",
              "            + ' to learn more about interactive tables.';\n",
              "          element.innerHTML = '';\n",
              "          dataTable['output_type'] = 'display_data';\n",
              "          await google.colab.output.renderOutput(dataTable, element);\n",
              "          const docLink = document.createElement('div');\n",
              "          docLink.innerHTML = docLinkHtml;\n",
              "          element.appendChild(docLink);\n",
              "        }\n",
              "      </script>\n",
              "    </div>\n",
              "  </div>\n",
              "  "
            ]
          },
          "metadata": {},
          "execution_count": 3
        }
      ],
      "source": [
        "df1"
      ]
    },
    {
      "cell_type": "code",
      "execution_count": null,
      "metadata": {
        "colab": {
          "base_uri": "https://localhost:8080/",
          "height": 424
        },
        "id": "WPAI9KQys7Fy",
        "outputId": "6b58721b-2b46-4f2c-92f9-c56189fa7806"
      },
      "outputs": [
        {
          "output_type": "execute_result",
          "data": {
            "text/plain": [
              "                                                Headline  Body_ID     Stance\n",
              "0      Police find mass graves with at least '15 bodi...      712  unrelated\n",
              "1      Hundreds of Palestinians flee floods in Gaza a...      158      agree\n",
              "2      Christian Bale passes on role of Steve Jobs, a...      137  unrelated\n",
              "3      HBO and Apple in Talks for $15/Month Apple TV ...     1034  unrelated\n",
              "4      Spider burrowed through tourist's stomach and ...     1923   disagree\n",
              "...                                                  ...      ...        ...\n",
              "49967  Urgent: The Leader of ISIL 'Abu Bakr al-Baghda...     1681  unrelated\n",
              "49968  Brian Williams slams social media for speculat...     2419  unrelated\n",
              "49969  Mexico Says Missing Students Not Found In Firs...     1156      agree\n",
              "49970  US Lawmaker: Ten ISIS Fighters Have Been Appre...     1012    discuss\n",
              "49971  Shots Heard In Alleged Brown Shooting Recordin...     2044  unrelated\n",
              "\n",
              "[49972 rows x 3 columns]"
            ],
            "text/html": [
              "\n",
              "  <div id=\"df-857edf86-e303-4849-83d5-3425f75ab217\">\n",
              "    <div class=\"colab-df-container\">\n",
              "      <div>\n",
              "<style scoped>\n",
              "    .dataframe tbody tr th:only-of-type {\n",
              "        vertical-align: middle;\n",
              "    }\n",
              "\n",
              "    .dataframe tbody tr th {\n",
              "        vertical-align: top;\n",
              "    }\n",
              "\n",
              "    .dataframe thead th {\n",
              "        text-align: right;\n",
              "    }\n",
              "</style>\n",
              "<table border=\"1\" class=\"dataframe\">\n",
              "  <thead>\n",
              "    <tr style=\"text-align: right;\">\n",
              "      <th></th>\n",
              "      <th>Headline</th>\n",
              "      <th>Body_ID</th>\n",
              "      <th>Stance</th>\n",
              "    </tr>\n",
              "  </thead>\n",
              "  <tbody>\n",
              "    <tr>\n",
              "      <th>0</th>\n",
              "      <td>Police find mass graves with at least '15 bodi...</td>\n",
              "      <td>712</td>\n",
              "      <td>unrelated</td>\n",
              "    </tr>\n",
              "    <tr>\n",
              "      <th>1</th>\n",
              "      <td>Hundreds of Palestinians flee floods in Gaza a...</td>\n",
              "      <td>158</td>\n",
              "      <td>agree</td>\n",
              "    </tr>\n",
              "    <tr>\n",
              "      <th>2</th>\n",
              "      <td>Christian Bale passes on role of Steve Jobs, a...</td>\n",
              "      <td>137</td>\n",
              "      <td>unrelated</td>\n",
              "    </tr>\n",
              "    <tr>\n",
              "      <th>3</th>\n",
              "      <td>HBO and Apple in Talks for $15/Month Apple TV ...</td>\n",
              "      <td>1034</td>\n",
              "      <td>unrelated</td>\n",
              "    </tr>\n",
              "    <tr>\n",
              "      <th>4</th>\n",
              "      <td>Spider burrowed through tourist's stomach and ...</td>\n",
              "      <td>1923</td>\n",
              "      <td>disagree</td>\n",
              "    </tr>\n",
              "    <tr>\n",
              "      <th>...</th>\n",
              "      <td>...</td>\n",
              "      <td>...</td>\n",
              "      <td>...</td>\n",
              "    </tr>\n",
              "    <tr>\n",
              "      <th>49967</th>\n",
              "      <td>Urgent: The Leader of ISIL 'Abu Bakr al-Baghda...</td>\n",
              "      <td>1681</td>\n",
              "      <td>unrelated</td>\n",
              "    </tr>\n",
              "    <tr>\n",
              "      <th>49968</th>\n",
              "      <td>Brian Williams slams social media for speculat...</td>\n",
              "      <td>2419</td>\n",
              "      <td>unrelated</td>\n",
              "    </tr>\n",
              "    <tr>\n",
              "      <th>49969</th>\n",
              "      <td>Mexico Says Missing Students Not Found In Firs...</td>\n",
              "      <td>1156</td>\n",
              "      <td>agree</td>\n",
              "    </tr>\n",
              "    <tr>\n",
              "      <th>49970</th>\n",
              "      <td>US Lawmaker: Ten ISIS Fighters Have Been Appre...</td>\n",
              "      <td>1012</td>\n",
              "      <td>discuss</td>\n",
              "    </tr>\n",
              "    <tr>\n",
              "      <th>49971</th>\n",
              "      <td>Shots Heard In Alleged Brown Shooting Recordin...</td>\n",
              "      <td>2044</td>\n",
              "      <td>unrelated</td>\n",
              "    </tr>\n",
              "  </tbody>\n",
              "</table>\n",
              "<p>49972 rows × 3 columns</p>\n",
              "</div>\n",
              "      <button class=\"colab-df-convert\" onclick=\"convertToInteractive('df-857edf86-e303-4849-83d5-3425f75ab217')\"\n",
              "              title=\"Convert this dataframe to an interactive table.\"\n",
              "              style=\"display:none;\">\n",
              "        \n",
              "  <svg xmlns=\"http://www.w3.org/2000/svg\" height=\"24px\"viewBox=\"0 0 24 24\"\n",
              "       width=\"24px\">\n",
              "    <path d=\"M0 0h24v24H0V0z\" fill=\"none\"/>\n",
              "    <path d=\"M18.56 5.44l.94 2.06.94-2.06 2.06-.94-2.06-.94-.94-2.06-.94 2.06-2.06.94zm-11 1L8.5 8.5l.94-2.06 2.06-.94-2.06-.94L8.5 2.5l-.94 2.06-2.06.94zm10 10l.94 2.06.94-2.06 2.06-.94-2.06-.94-.94-2.06-.94 2.06-2.06.94z\"/><path d=\"M17.41 7.96l-1.37-1.37c-.4-.4-.92-.59-1.43-.59-.52 0-1.04.2-1.43.59L10.3 9.45l-7.72 7.72c-.78.78-.78 2.05 0 2.83L4 21.41c.39.39.9.59 1.41.59.51 0 1.02-.2 1.41-.59l7.78-7.78 2.81-2.81c.8-.78.8-2.07 0-2.86zM5.41 20L4 18.59l7.72-7.72 1.47 1.35L5.41 20z\"/>\n",
              "  </svg>\n",
              "      </button>\n",
              "      \n",
              "  <style>\n",
              "    .colab-df-container {\n",
              "      display:flex;\n",
              "      flex-wrap:wrap;\n",
              "      gap: 12px;\n",
              "    }\n",
              "\n",
              "    .colab-df-convert {\n",
              "      background-color: #E8F0FE;\n",
              "      border: none;\n",
              "      border-radius: 50%;\n",
              "      cursor: pointer;\n",
              "      display: none;\n",
              "      fill: #1967D2;\n",
              "      height: 32px;\n",
              "      padding: 0 0 0 0;\n",
              "      width: 32px;\n",
              "    }\n",
              "\n",
              "    .colab-df-convert:hover {\n",
              "      background-color: #E2EBFA;\n",
              "      box-shadow: 0px 1px 2px rgba(60, 64, 67, 0.3), 0px 1px 3px 1px rgba(60, 64, 67, 0.15);\n",
              "      fill: #174EA6;\n",
              "    }\n",
              "\n",
              "    [theme=dark] .colab-df-convert {\n",
              "      background-color: #3B4455;\n",
              "      fill: #D2E3FC;\n",
              "    }\n",
              "\n",
              "    [theme=dark] .colab-df-convert:hover {\n",
              "      background-color: #434B5C;\n",
              "      box-shadow: 0px 1px 3px 1px rgba(0, 0, 0, 0.15);\n",
              "      filter: drop-shadow(0px 1px 2px rgba(0, 0, 0, 0.3));\n",
              "      fill: #FFFFFF;\n",
              "    }\n",
              "  </style>\n",
              "\n",
              "      <script>\n",
              "        const buttonEl =\n",
              "          document.querySelector('#df-857edf86-e303-4849-83d5-3425f75ab217 button.colab-df-convert');\n",
              "        buttonEl.style.display =\n",
              "          google.colab.kernel.accessAllowed ? 'block' : 'none';\n",
              "\n",
              "        async function convertToInteractive(key) {\n",
              "          const element = document.querySelector('#df-857edf86-e303-4849-83d5-3425f75ab217');\n",
              "          const dataTable =\n",
              "            await google.colab.kernel.invokeFunction('convertToInteractive',\n",
              "                                                     [key], {});\n",
              "          if (!dataTable) return;\n",
              "\n",
              "          const docLinkHtml = 'Like what you see? Visit the ' +\n",
              "            '<a target=\"_blank\" href=https://colab.research.google.com/notebooks/data_table.ipynb>data table notebook</a>'\n",
              "            + ' to learn more about interactive tables.';\n",
              "          element.innerHTML = '';\n",
              "          dataTable['output_type'] = 'display_data';\n",
              "          await google.colab.output.renderOutput(dataTable, element);\n",
              "          const docLink = document.createElement('div');\n",
              "          docLink.innerHTML = docLinkHtml;\n",
              "          element.appendChild(docLink);\n",
              "        }\n",
              "      </script>\n",
              "    </div>\n",
              "  </div>\n",
              "  "
            ]
          },
          "metadata": {},
          "execution_count": 4
        }
      ],
      "source": [
        "df2"
      ]
    },
    {
      "cell_type": "code",
      "execution_count": null,
      "metadata": {
        "colab": {
          "base_uri": "https://localhost:8080/",
          "height": 424
        },
        "id": "xQtxmxYcqKo6",
        "outputId": "7893319f-c36b-427a-854c-d5a529ba7c19"
      },
      "outputs": [
        {
          "output_type": "execute_result",
          "data": {
            "text/plain": [
              "                                                Headline  Body_ID     Stance  \\\n",
              "0      Police find mass graves with at least '15 bodi...      712  unrelated   \n",
              "1      Hundreds of Palestinians flee floods in Gaza a...      158      agree   \n",
              "2      Christian Bale passes on role of Steve Jobs, a...      137  unrelated   \n",
              "3      HBO and Apple in Talks for $15/Month Apple TV ...     1034  unrelated   \n",
              "4      Spider burrowed through tourist's stomach and ...     1923   disagree   \n",
              "...                                                  ...      ...        ...   \n",
              "49967  Urgent: The Leader of ISIL 'Abu Bakr al-Baghda...     1681  unrelated   \n",
              "49968  Brian Williams slams social media for speculat...     2419  unrelated   \n",
              "49969  Mexico Says Missing Students Not Found In Firs...     1156      agree   \n",
              "49970  US Lawmaker: Ten ISIS Fighters Have Been Appre...     1012    discuss   \n",
              "49971  Shots Heard In Alleged Brown Shooting Recordin...     2044  unrelated   \n",
              "\n",
              "                                             articleBody  \n",
              "0      Danny Boyle is directing the untitled film\\n\\n...  \n",
              "1      Hundreds of Palestinians were evacuated from t...  \n",
              "2      30-year-old Moscow resident was hospitalized w...  \n",
              "3      (Reuters) - A Canadian soldier was shot at the...  \n",
              "4      Fear not arachnophobes, the story of Bunbury's...  \n",
              "...                                                  ...  \n",
              "49967  (CNN) -- Boko Haram laughed off Nigeria's anno...  \n",
              "49968  Along with unveiling the Apple Watch earlier t...  \n",
              "49969  The bodies found in a mass grave were confirme...  \n",
              "49970  Rep. Duncan Hunter (R-CA) told Greta Van Suste...  \n",
              "49971  A married TV actor who met a young woman and k...  \n",
              "\n",
              "[49972 rows x 4 columns]"
            ],
            "text/html": [
              "\n",
              "  <div id=\"df-503661bf-0efd-4668-be94-04e9ea00baa3\">\n",
              "    <div class=\"colab-df-container\">\n",
              "      <div>\n",
              "<style scoped>\n",
              "    .dataframe tbody tr th:only-of-type {\n",
              "        vertical-align: middle;\n",
              "    }\n",
              "\n",
              "    .dataframe tbody tr th {\n",
              "        vertical-align: top;\n",
              "    }\n",
              "\n",
              "    .dataframe thead th {\n",
              "        text-align: right;\n",
              "    }\n",
              "</style>\n",
              "<table border=\"1\" class=\"dataframe\">\n",
              "  <thead>\n",
              "    <tr style=\"text-align: right;\">\n",
              "      <th></th>\n",
              "      <th>Headline</th>\n",
              "      <th>Body_ID</th>\n",
              "      <th>Stance</th>\n",
              "      <th>articleBody</th>\n",
              "    </tr>\n",
              "  </thead>\n",
              "  <tbody>\n",
              "    <tr>\n",
              "      <th>0</th>\n",
              "      <td>Police find mass graves with at least '15 bodi...</td>\n",
              "      <td>712</td>\n",
              "      <td>unrelated</td>\n",
              "      <td>Danny Boyle is directing the untitled film\\n\\n...</td>\n",
              "    </tr>\n",
              "    <tr>\n",
              "      <th>1</th>\n",
              "      <td>Hundreds of Palestinians flee floods in Gaza a...</td>\n",
              "      <td>158</td>\n",
              "      <td>agree</td>\n",
              "      <td>Hundreds of Palestinians were evacuated from t...</td>\n",
              "    </tr>\n",
              "    <tr>\n",
              "      <th>2</th>\n",
              "      <td>Christian Bale passes on role of Steve Jobs, a...</td>\n",
              "      <td>137</td>\n",
              "      <td>unrelated</td>\n",
              "      <td>30-year-old Moscow resident was hospitalized w...</td>\n",
              "    </tr>\n",
              "    <tr>\n",
              "      <th>3</th>\n",
              "      <td>HBO and Apple in Talks for $15/Month Apple TV ...</td>\n",
              "      <td>1034</td>\n",
              "      <td>unrelated</td>\n",
              "      <td>(Reuters) - A Canadian soldier was shot at the...</td>\n",
              "    </tr>\n",
              "    <tr>\n",
              "      <th>4</th>\n",
              "      <td>Spider burrowed through tourist's stomach and ...</td>\n",
              "      <td>1923</td>\n",
              "      <td>disagree</td>\n",
              "      <td>Fear not arachnophobes, the story of Bunbury's...</td>\n",
              "    </tr>\n",
              "    <tr>\n",
              "      <th>...</th>\n",
              "      <td>...</td>\n",
              "      <td>...</td>\n",
              "      <td>...</td>\n",
              "      <td>...</td>\n",
              "    </tr>\n",
              "    <tr>\n",
              "      <th>49967</th>\n",
              "      <td>Urgent: The Leader of ISIL 'Abu Bakr al-Baghda...</td>\n",
              "      <td>1681</td>\n",
              "      <td>unrelated</td>\n",
              "      <td>(CNN) -- Boko Haram laughed off Nigeria's anno...</td>\n",
              "    </tr>\n",
              "    <tr>\n",
              "      <th>49968</th>\n",
              "      <td>Brian Williams slams social media for speculat...</td>\n",
              "      <td>2419</td>\n",
              "      <td>unrelated</td>\n",
              "      <td>Along with unveiling the Apple Watch earlier t...</td>\n",
              "    </tr>\n",
              "    <tr>\n",
              "      <th>49969</th>\n",
              "      <td>Mexico Says Missing Students Not Found In Firs...</td>\n",
              "      <td>1156</td>\n",
              "      <td>agree</td>\n",
              "      <td>The bodies found in a mass grave were confirme...</td>\n",
              "    </tr>\n",
              "    <tr>\n",
              "      <th>49970</th>\n",
              "      <td>US Lawmaker: Ten ISIS Fighters Have Been Appre...</td>\n",
              "      <td>1012</td>\n",
              "      <td>discuss</td>\n",
              "      <td>Rep. Duncan Hunter (R-CA) told Greta Van Suste...</td>\n",
              "    </tr>\n",
              "    <tr>\n",
              "      <th>49971</th>\n",
              "      <td>Shots Heard In Alleged Brown Shooting Recordin...</td>\n",
              "      <td>2044</td>\n",
              "      <td>unrelated</td>\n",
              "      <td>A married TV actor who met a young woman and k...</td>\n",
              "    </tr>\n",
              "  </tbody>\n",
              "</table>\n",
              "<p>49972 rows × 4 columns</p>\n",
              "</div>\n",
              "      <button class=\"colab-df-convert\" onclick=\"convertToInteractive('df-503661bf-0efd-4668-be94-04e9ea00baa3')\"\n",
              "              title=\"Convert this dataframe to an interactive table.\"\n",
              "              style=\"display:none;\">\n",
              "        \n",
              "  <svg xmlns=\"http://www.w3.org/2000/svg\" height=\"24px\"viewBox=\"0 0 24 24\"\n",
              "       width=\"24px\">\n",
              "    <path d=\"M0 0h24v24H0V0z\" fill=\"none\"/>\n",
              "    <path d=\"M18.56 5.44l.94 2.06.94-2.06 2.06-.94-2.06-.94-.94-2.06-.94 2.06-2.06.94zm-11 1L8.5 8.5l.94-2.06 2.06-.94-2.06-.94L8.5 2.5l-.94 2.06-2.06.94zm10 10l.94 2.06.94-2.06 2.06-.94-2.06-.94-.94-2.06-.94 2.06-2.06.94z\"/><path d=\"M17.41 7.96l-1.37-1.37c-.4-.4-.92-.59-1.43-.59-.52 0-1.04.2-1.43.59L10.3 9.45l-7.72 7.72c-.78.78-.78 2.05 0 2.83L4 21.41c.39.39.9.59 1.41.59.51 0 1.02-.2 1.41-.59l7.78-7.78 2.81-2.81c.8-.78.8-2.07 0-2.86zM5.41 20L4 18.59l7.72-7.72 1.47 1.35L5.41 20z\"/>\n",
              "  </svg>\n",
              "      </button>\n",
              "      \n",
              "  <style>\n",
              "    .colab-df-container {\n",
              "      display:flex;\n",
              "      flex-wrap:wrap;\n",
              "      gap: 12px;\n",
              "    }\n",
              "\n",
              "    .colab-df-convert {\n",
              "      background-color: #E8F0FE;\n",
              "      border: none;\n",
              "      border-radius: 50%;\n",
              "      cursor: pointer;\n",
              "      display: none;\n",
              "      fill: #1967D2;\n",
              "      height: 32px;\n",
              "      padding: 0 0 0 0;\n",
              "      width: 32px;\n",
              "    }\n",
              "\n",
              "    .colab-df-convert:hover {\n",
              "      background-color: #E2EBFA;\n",
              "      box-shadow: 0px 1px 2px rgba(60, 64, 67, 0.3), 0px 1px 3px 1px rgba(60, 64, 67, 0.15);\n",
              "      fill: #174EA6;\n",
              "    }\n",
              "\n",
              "    [theme=dark] .colab-df-convert {\n",
              "      background-color: #3B4455;\n",
              "      fill: #D2E3FC;\n",
              "    }\n",
              "\n",
              "    [theme=dark] .colab-df-convert:hover {\n",
              "      background-color: #434B5C;\n",
              "      box-shadow: 0px 1px 3px 1px rgba(0, 0, 0, 0.15);\n",
              "      filter: drop-shadow(0px 1px 2px rgba(0, 0, 0, 0.3));\n",
              "      fill: #FFFFFF;\n",
              "    }\n",
              "  </style>\n",
              "\n",
              "      <script>\n",
              "        const buttonEl =\n",
              "          document.querySelector('#df-503661bf-0efd-4668-be94-04e9ea00baa3 button.colab-df-convert');\n",
              "        buttonEl.style.display =\n",
              "          google.colab.kernel.accessAllowed ? 'block' : 'none';\n",
              "\n",
              "        async function convertToInteractive(key) {\n",
              "          const element = document.querySelector('#df-503661bf-0efd-4668-be94-04e9ea00baa3');\n",
              "          const dataTable =\n",
              "            await google.colab.kernel.invokeFunction('convertToInteractive',\n",
              "                                                     [key], {});\n",
              "          if (!dataTable) return;\n",
              "\n",
              "          const docLinkHtml = 'Like what you see? Visit the ' +\n",
              "            '<a target=\"_blank\" href=https://colab.research.google.com/notebooks/data_table.ipynb>data table notebook</a>'\n",
              "            + ' to learn more about interactive tables.';\n",
              "          element.innerHTML = '';\n",
              "          dataTable['output_type'] = 'display_data';\n",
              "          await google.colab.output.renderOutput(dataTable, element);\n",
              "          const docLink = document.createElement('div');\n",
              "          docLink.innerHTML = docLinkHtml;\n",
              "          element.appendChild(docLink);\n",
              "        }\n",
              "      </script>\n",
              "    </div>\n",
              "  </div>\n",
              "  "
            ]
          },
          "metadata": {},
          "execution_count": 5
        }
      ],
      "source": [
        "df = df2.join(df1.set_index('Body_ID'), on='Body_ID')\n",
        "df"
      ]
    },
    {
      "cell_type": "markdown",
      "source": [
        "```\n",
        "Taking 0.004% dataset\n",
        "```"
      ],
      "metadata": {
        "id": "zZcSlWrPRYFA"
      }
    },
    {
      "cell_type": "code",
      "execution_count": null,
      "metadata": {
        "colab": {
          "base_uri": "https://localhost:8080/",
          "height": 424
        },
        "id": "YZ8www0QYpIe",
        "outputId": "44adcf65-71f4-482d-e074-d8b44137ac23"
      },
      "outputs": [
        {
          "output_type": "execute_result",
          "data": {
            "text/plain": [
              "                                              Headline  Body_ID     Stance  \\\n",
              "0    Hundreds of Palestinians flee floods in Gaza a...      158      agree   \n",
              "1    'Nasa Confirms Earth Will Experience 6 Days of...      154      agree   \n",
              "2    Banksy 'Arrested & Real Identity Revealed' Is ...     1739      agree   \n",
              "3    Woman detained in Lebanon is not al-Baghdadi's...     1468      agree   \n",
              "4    No, Robert Plant Didn’t Rip Up an $800 Million...      295      agree   \n",
              "..                                                 ...      ...        ...   \n",
              "195  Did Kim Yo-Jong Take Kim Jong Un’s Role? North...     1500  unrelated   \n",
              "196   US confirms death of Somalia terror group leader      167  unrelated   \n",
              "197  Durex Is Not Making Pumpkin Spice Condoms Afte...     1175  unrelated   \n",
              "198  ISLAMIC STATE BEHEADS MISSING AMERICAN JOURNAL...     1034  unrelated   \n",
              "199  Spider Burrows Into Australian Man's Appendix ...      724  unrelated   \n",
              "\n",
              "                                           articleBody  \n",
              "0    Hundreds of Palestinians were evacuated from t...  \n",
              "1    Thousands of people have been duped by a fake ...  \n",
              "2    If you’ve seen a story floating around on your...  \n",
              "3    An Iraqi official denied that a woman detained...  \n",
              "4    Led Zeppelin fans will be disappointed to lear...  \n",
              "..                                                 ...  \n",
              "195  Tonight — finally! — ESPN is going to have an ...  \n",
              "196  LAS VEGAS -- The person behind the $300,000 di...  \n",
              "197  A spokesman for the Iraqi health ministry deni...  \n",
              "198  (Reuters) - A Canadian soldier was shot at the...  \n",
              "199  Forget sweater weather and crisp autumn leaves...  \n",
              "\n",
              "[200 rows x 4 columns]"
            ],
            "text/html": [
              "\n",
              "  <div id=\"df-de2a13fc-d61e-4165-a73f-d7b9a53453f7\">\n",
              "    <div class=\"colab-df-container\">\n",
              "      <div>\n",
              "<style scoped>\n",
              "    .dataframe tbody tr th:only-of-type {\n",
              "        vertical-align: middle;\n",
              "    }\n",
              "\n",
              "    .dataframe tbody tr th {\n",
              "        vertical-align: top;\n",
              "    }\n",
              "\n",
              "    .dataframe thead th {\n",
              "        text-align: right;\n",
              "    }\n",
              "</style>\n",
              "<table border=\"1\" class=\"dataframe\">\n",
              "  <thead>\n",
              "    <tr style=\"text-align: right;\">\n",
              "      <th></th>\n",
              "      <th>Headline</th>\n",
              "      <th>Body_ID</th>\n",
              "      <th>Stance</th>\n",
              "      <th>articleBody</th>\n",
              "    </tr>\n",
              "  </thead>\n",
              "  <tbody>\n",
              "    <tr>\n",
              "      <th>0</th>\n",
              "      <td>Hundreds of Palestinians flee floods in Gaza a...</td>\n",
              "      <td>158</td>\n",
              "      <td>agree</td>\n",
              "      <td>Hundreds of Palestinians were evacuated from t...</td>\n",
              "    </tr>\n",
              "    <tr>\n",
              "      <th>1</th>\n",
              "      <td>'Nasa Confirms Earth Will Experience 6 Days of...</td>\n",
              "      <td>154</td>\n",
              "      <td>agree</td>\n",
              "      <td>Thousands of people have been duped by a fake ...</td>\n",
              "    </tr>\n",
              "    <tr>\n",
              "      <th>2</th>\n",
              "      <td>Banksy 'Arrested &amp; Real Identity Revealed' Is ...</td>\n",
              "      <td>1739</td>\n",
              "      <td>agree</td>\n",
              "      <td>If you’ve seen a story floating around on your...</td>\n",
              "    </tr>\n",
              "    <tr>\n",
              "      <th>3</th>\n",
              "      <td>Woman detained in Lebanon is not al-Baghdadi's...</td>\n",
              "      <td>1468</td>\n",
              "      <td>agree</td>\n",
              "      <td>An Iraqi official denied that a woman detained...</td>\n",
              "    </tr>\n",
              "    <tr>\n",
              "      <th>4</th>\n",
              "      <td>No, Robert Plant Didn’t Rip Up an $800 Million...</td>\n",
              "      <td>295</td>\n",
              "      <td>agree</td>\n",
              "      <td>Led Zeppelin fans will be disappointed to lear...</td>\n",
              "    </tr>\n",
              "    <tr>\n",
              "      <th>...</th>\n",
              "      <td>...</td>\n",
              "      <td>...</td>\n",
              "      <td>...</td>\n",
              "      <td>...</td>\n",
              "    </tr>\n",
              "    <tr>\n",
              "      <th>195</th>\n",
              "      <td>Did Kim Yo-Jong Take Kim Jong Un’s Role? North...</td>\n",
              "      <td>1500</td>\n",
              "      <td>unrelated</td>\n",
              "      <td>Tonight — finally! — ESPN is going to have an ...</td>\n",
              "    </tr>\n",
              "    <tr>\n",
              "      <th>196</th>\n",
              "      <td>US confirms death of Somalia terror group leader</td>\n",
              "      <td>167</td>\n",
              "      <td>unrelated</td>\n",
              "      <td>LAS VEGAS -- The person behind the $300,000 di...</td>\n",
              "    </tr>\n",
              "    <tr>\n",
              "      <th>197</th>\n",
              "      <td>Durex Is Not Making Pumpkin Spice Condoms Afte...</td>\n",
              "      <td>1175</td>\n",
              "      <td>unrelated</td>\n",
              "      <td>A spokesman for the Iraqi health ministry deni...</td>\n",
              "    </tr>\n",
              "    <tr>\n",
              "      <th>198</th>\n",
              "      <td>ISLAMIC STATE BEHEADS MISSING AMERICAN JOURNAL...</td>\n",
              "      <td>1034</td>\n",
              "      <td>unrelated</td>\n",
              "      <td>(Reuters) - A Canadian soldier was shot at the...</td>\n",
              "    </tr>\n",
              "    <tr>\n",
              "      <th>199</th>\n",
              "      <td>Spider Burrows Into Australian Man's Appendix ...</td>\n",
              "      <td>724</td>\n",
              "      <td>unrelated</td>\n",
              "      <td>Forget sweater weather and crisp autumn leaves...</td>\n",
              "    </tr>\n",
              "  </tbody>\n",
              "</table>\n",
              "<p>200 rows × 4 columns</p>\n",
              "</div>\n",
              "      <button class=\"colab-df-convert\" onclick=\"convertToInteractive('df-de2a13fc-d61e-4165-a73f-d7b9a53453f7')\"\n",
              "              title=\"Convert this dataframe to an interactive table.\"\n",
              "              style=\"display:none;\">\n",
              "        \n",
              "  <svg xmlns=\"http://www.w3.org/2000/svg\" height=\"24px\"viewBox=\"0 0 24 24\"\n",
              "       width=\"24px\">\n",
              "    <path d=\"M0 0h24v24H0V0z\" fill=\"none\"/>\n",
              "    <path d=\"M18.56 5.44l.94 2.06.94-2.06 2.06-.94-2.06-.94-.94-2.06-.94 2.06-2.06.94zm-11 1L8.5 8.5l.94-2.06 2.06-.94-2.06-.94L8.5 2.5l-.94 2.06-2.06.94zm10 10l.94 2.06.94-2.06 2.06-.94-2.06-.94-.94-2.06-.94 2.06-2.06.94z\"/><path d=\"M17.41 7.96l-1.37-1.37c-.4-.4-.92-.59-1.43-.59-.52 0-1.04.2-1.43.59L10.3 9.45l-7.72 7.72c-.78.78-.78 2.05 0 2.83L4 21.41c.39.39.9.59 1.41.59.51 0 1.02-.2 1.41-.59l7.78-7.78 2.81-2.81c.8-.78.8-2.07 0-2.86zM5.41 20L4 18.59l7.72-7.72 1.47 1.35L5.41 20z\"/>\n",
              "  </svg>\n",
              "      </button>\n",
              "      \n",
              "  <style>\n",
              "    .colab-df-container {\n",
              "      display:flex;\n",
              "      flex-wrap:wrap;\n",
              "      gap: 12px;\n",
              "    }\n",
              "\n",
              "    .colab-df-convert {\n",
              "      background-color: #E8F0FE;\n",
              "      border: none;\n",
              "      border-radius: 50%;\n",
              "      cursor: pointer;\n",
              "      display: none;\n",
              "      fill: #1967D2;\n",
              "      height: 32px;\n",
              "      padding: 0 0 0 0;\n",
              "      width: 32px;\n",
              "    }\n",
              "\n",
              "    .colab-df-convert:hover {\n",
              "      background-color: #E2EBFA;\n",
              "      box-shadow: 0px 1px 2px rgba(60, 64, 67, 0.3), 0px 1px 3px 1px rgba(60, 64, 67, 0.15);\n",
              "      fill: #174EA6;\n",
              "    }\n",
              "\n",
              "    [theme=dark] .colab-df-convert {\n",
              "      background-color: #3B4455;\n",
              "      fill: #D2E3FC;\n",
              "    }\n",
              "\n",
              "    [theme=dark] .colab-df-convert:hover {\n",
              "      background-color: #434B5C;\n",
              "      box-shadow: 0px 1px 3px 1px rgba(0, 0, 0, 0.15);\n",
              "      filter: drop-shadow(0px 1px 2px rgba(0, 0, 0, 0.3));\n",
              "      fill: #FFFFFF;\n",
              "    }\n",
              "  </style>\n",
              "\n",
              "      <script>\n",
              "        const buttonEl =\n",
              "          document.querySelector('#df-de2a13fc-d61e-4165-a73f-d7b9a53453f7 button.colab-df-convert');\n",
              "        buttonEl.style.display =\n",
              "          google.colab.kernel.accessAllowed ? 'block' : 'none';\n",
              "\n",
              "        async function convertToInteractive(key) {\n",
              "          const element = document.querySelector('#df-de2a13fc-d61e-4165-a73f-d7b9a53453f7');\n",
              "          const dataTable =\n",
              "            await google.colab.kernel.invokeFunction('convertToInteractive',\n",
              "                                                     [key], {});\n",
              "          if (!dataTable) return;\n",
              "\n",
              "          const docLinkHtml = 'Like what you see? Visit the ' +\n",
              "            '<a target=\"_blank\" href=https://colab.research.google.com/notebooks/data_table.ipynb>data table notebook</a>'\n",
              "            + ' to learn more about interactive tables.';\n",
              "          element.innerHTML = '';\n",
              "          dataTable['output_type'] = 'display_data';\n",
              "          await google.colab.output.renderOutput(dataTable, element);\n",
              "          const docLink = document.createElement('div');\n",
              "          docLink.innerHTML = docLinkHtml;\n",
              "          element.appendChild(docLink);\n",
              "        }\n",
              "      </script>\n",
              "    </div>\n",
              "  </div>\n",
              "  "
            ]
          },
          "metadata": {},
          "execution_count": 6
        }
      ],
      "source": [
        "dfN = pd.DataFrame()\n",
        "for name, group in df.groupby(by=[\"Stance\"]):\n",
        "  group = group[:50]\n",
        "  df1 = df.iloc[group.index]\n",
        "  dfN = dfN.append(df1, ignore_index=True)\n",
        "dfN"
      ]
    },
    {
      "cell_type": "code",
      "execution_count": null,
      "metadata": {
        "colab": {
          "base_uri": "https://localhost:8080/",
          "height": 424
        },
        "id": "85KnfFREpk32",
        "outputId": "0b8c7486-4376-4501-9263-99efb33f9610"
      },
      "outputs": [
        {
          "output_type": "execute_result",
          "data": {
            "text/plain": [
              "                                              Headline  Body_ID     Stance  \\\n",
              "0    Shots Heard In Alleged Brown Shooting Recordin...     1818    discuss   \n",
              "1    Who Is Michael Zehaf-Bibeau? Ottawa Shooter Su...     1251  unrelated   \n",
              "2    Man who skipped work for 24 years is finally f...     1951      agree   \n",
              "3    Islamic State militants allegedly used chlorin...     1590    discuss   \n",
              "4    Fisherman lands 19 STONE catfish which could b...     2161      agree   \n",
              "..                                                 ...      ...        ...   \n",
              "195                                          Bali Awry      181  unrelated   \n",
              "196  Boko Haram ceasefire ignored as violence flare...     2139   disagree   \n",
              "197       N. Korea’s Kim has leg injury but in control      570  unrelated   \n",
              "198                                        Cold Turkey     1949      agree   \n",
              "199  Bugatti Veyron Vandalized With Penis Graffiti?...     1148      agree   \n",
              "\n",
              "                                           articleBody  \n",
              "0    Video messaging app Glide on Thursday said it ...  \n",
              "1    The lethal animals are being launched at Iraqi...  \n",
              "2    An executive engineer at the Central Public Wo...  \n",
              "3    BAGHDAD / Nina /--Vice President Osama Nujaifi...  \n",
              "4    Dino Ferrari hooked the whopper wels catfish, ...  \n",
              "..                                                 ...  \n",
              "195  While Apple announced that the base model of i...  \n",
              "196  MAIDUGURI, Nigeria — The leader of Nigeria’s I...  \n",
              "197  You want a gold Apple Watch, you say? Then it'...  \n",
              "198  There it was in the middle of a field, baking ...  \n",
              "199  An image of a gold Bugatti Veyron graffitied w...  \n",
              "\n",
              "[200 rows x 4 columns]"
            ],
            "text/html": [
              "\n",
              "  <div id=\"df-c6574aa5-7610-4961-abbd-5cdd8cb1c73f\">\n",
              "    <div class=\"colab-df-container\">\n",
              "      <div>\n",
              "<style scoped>\n",
              "    .dataframe tbody tr th:only-of-type {\n",
              "        vertical-align: middle;\n",
              "    }\n",
              "\n",
              "    .dataframe tbody tr th {\n",
              "        vertical-align: top;\n",
              "    }\n",
              "\n",
              "    .dataframe thead th {\n",
              "        text-align: right;\n",
              "    }\n",
              "</style>\n",
              "<table border=\"1\" class=\"dataframe\">\n",
              "  <thead>\n",
              "    <tr style=\"text-align: right;\">\n",
              "      <th></th>\n",
              "      <th>Headline</th>\n",
              "      <th>Body_ID</th>\n",
              "      <th>Stance</th>\n",
              "      <th>articleBody</th>\n",
              "    </tr>\n",
              "  </thead>\n",
              "  <tbody>\n",
              "    <tr>\n",
              "      <th>0</th>\n",
              "      <td>Shots Heard In Alleged Brown Shooting Recordin...</td>\n",
              "      <td>1818</td>\n",
              "      <td>discuss</td>\n",
              "      <td>Video messaging app Glide on Thursday said it ...</td>\n",
              "    </tr>\n",
              "    <tr>\n",
              "      <th>1</th>\n",
              "      <td>Who Is Michael Zehaf-Bibeau? Ottawa Shooter Su...</td>\n",
              "      <td>1251</td>\n",
              "      <td>unrelated</td>\n",
              "      <td>The lethal animals are being launched at Iraqi...</td>\n",
              "    </tr>\n",
              "    <tr>\n",
              "      <th>2</th>\n",
              "      <td>Man who skipped work for 24 years is finally f...</td>\n",
              "      <td>1951</td>\n",
              "      <td>agree</td>\n",
              "      <td>An executive engineer at the Central Public Wo...</td>\n",
              "    </tr>\n",
              "    <tr>\n",
              "      <th>3</th>\n",
              "      <td>Islamic State militants allegedly used chlorin...</td>\n",
              "      <td>1590</td>\n",
              "      <td>discuss</td>\n",
              "      <td>BAGHDAD / Nina /--Vice President Osama Nujaifi...</td>\n",
              "    </tr>\n",
              "    <tr>\n",
              "      <th>4</th>\n",
              "      <td>Fisherman lands 19 STONE catfish which could b...</td>\n",
              "      <td>2161</td>\n",
              "      <td>agree</td>\n",
              "      <td>Dino Ferrari hooked the whopper wels catfish, ...</td>\n",
              "    </tr>\n",
              "    <tr>\n",
              "      <th>...</th>\n",
              "      <td>...</td>\n",
              "      <td>...</td>\n",
              "      <td>...</td>\n",
              "      <td>...</td>\n",
              "    </tr>\n",
              "    <tr>\n",
              "      <th>195</th>\n",
              "      <td>Bali Awry</td>\n",
              "      <td>181</td>\n",
              "      <td>unrelated</td>\n",
              "      <td>While Apple announced that the base model of i...</td>\n",
              "    </tr>\n",
              "    <tr>\n",
              "      <th>196</th>\n",
              "      <td>Boko Haram ceasefire ignored as violence flare...</td>\n",
              "      <td>2139</td>\n",
              "      <td>disagree</td>\n",
              "      <td>MAIDUGURI, Nigeria — The leader of Nigeria’s I...</td>\n",
              "    </tr>\n",
              "    <tr>\n",
              "      <th>197</th>\n",
              "      <td>N. Korea’s Kim has leg injury but in control</td>\n",
              "      <td>570</td>\n",
              "      <td>unrelated</td>\n",
              "      <td>You want a gold Apple Watch, you say? Then it'...</td>\n",
              "    </tr>\n",
              "    <tr>\n",
              "      <th>198</th>\n",
              "      <td>Cold Turkey</td>\n",
              "      <td>1949</td>\n",
              "      <td>agree</td>\n",
              "      <td>There it was in the middle of a field, baking ...</td>\n",
              "    </tr>\n",
              "    <tr>\n",
              "      <th>199</th>\n",
              "      <td>Bugatti Veyron Vandalized With Penis Graffiti?...</td>\n",
              "      <td>1148</td>\n",
              "      <td>agree</td>\n",
              "      <td>An image of a gold Bugatti Veyron graffitied w...</td>\n",
              "    </tr>\n",
              "  </tbody>\n",
              "</table>\n",
              "<p>200 rows × 4 columns</p>\n",
              "</div>\n",
              "      <button class=\"colab-df-convert\" onclick=\"convertToInteractive('df-c6574aa5-7610-4961-abbd-5cdd8cb1c73f')\"\n",
              "              title=\"Convert this dataframe to an interactive table.\"\n",
              "              style=\"display:none;\">\n",
              "        \n",
              "  <svg xmlns=\"http://www.w3.org/2000/svg\" height=\"24px\"viewBox=\"0 0 24 24\"\n",
              "       width=\"24px\">\n",
              "    <path d=\"M0 0h24v24H0V0z\" fill=\"none\"/>\n",
              "    <path d=\"M18.56 5.44l.94 2.06.94-2.06 2.06-.94-2.06-.94-.94-2.06-.94 2.06-2.06.94zm-11 1L8.5 8.5l.94-2.06 2.06-.94-2.06-.94L8.5 2.5l-.94 2.06-2.06.94zm10 10l.94 2.06.94-2.06 2.06-.94-2.06-.94-.94-2.06-.94 2.06-2.06.94z\"/><path d=\"M17.41 7.96l-1.37-1.37c-.4-.4-.92-.59-1.43-.59-.52 0-1.04.2-1.43.59L10.3 9.45l-7.72 7.72c-.78.78-.78 2.05 0 2.83L4 21.41c.39.39.9.59 1.41.59.51 0 1.02-.2 1.41-.59l7.78-7.78 2.81-2.81c.8-.78.8-2.07 0-2.86zM5.41 20L4 18.59l7.72-7.72 1.47 1.35L5.41 20z\"/>\n",
              "  </svg>\n",
              "      </button>\n",
              "      \n",
              "  <style>\n",
              "    .colab-df-container {\n",
              "      display:flex;\n",
              "      flex-wrap:wrap;\n",
              "      gap: 12px;\n",
              "    }\n",
              "\n",
              "    .colab-df-convert {\n",
              "      background-color: #E8F0FE;\n",
              "      border: none;\n",
              "      border-radius: 50%;\n",
              "      cursor: pointer;\n",
              "      display: none;\n",
              "      fill: #1967D2;\n",
              "      height: 32px;\n",
              "      padding: 0 0 0 0;\n",
              "      width: 32px;\n",
              "    }\n",
              "\n",
              "    .colab-df-convert:hover {\n",
              "      background-color: #E2EBFA;\n",
              "      box-shadow: 0px 1px 2px rgba(60, 64, 67, 0.3), 0px 1px 3px 1px rgba(60, 64, 67, 0.15);\n",
              "      fill: #174EA6;\n",
              "    }\n",
              "\n",
              "    [theme=dark] .colab-df-convert {\n",
              "      background-color: #3B4455;\n",
              "      fill: #D2E3FC;\n",
              "    }\n",
              "\n",
              "    [theme=dark] .colab-df-convert:hover {\n",
              "      background-color: #434B5C;\n",
              "      box-shadow: 0px 1px 3px 1px rgba(0, 0, 0, 0.15);\n",
              "      filter: drop-shadow(0px 1px 2px rgba(0, 0, 0, 0.3));\n",
              "      fill: #FFFFFF;\n",
              "    }\n",
              "  </style>\n",
              "\n",
              "      <script>\n",
              "        const buttonEl =\n",
              "          document.querySelector('#df-c6574aa5-7610-4961-abbd-5cdd8cb1c73f button.colab-df-convert');\n",
              "        buttonEl.style.display =\n",
              "          google.colab.kernel.accessAllowed ? 'block' : 'none';\n",
              "\n",
              "        async function convertToInteractive(key) {\n",
              "          const element = document.querySelector('#df-c6574aa5-7610-4961-abbd-5cdd8cb1c73f');\n",
              "          const dataTable =\n",
              "            await google.colab.kernel.invokeFunction('convertToInteractive',\n",
              "                                                     [key], {});\n",
              "          if (!dataTable) return;\n",
              "\n",
              "          const docLinkHtml = 'Like what you see? Visit the ' +\n",
              "            '<a target=\"_blank\" href=https://colab.research.google.com/notebooks/data_table.ipynb>data table notebook</a>'\n",
              "            + ' to learn more about interactive tables.';\n",
              "          element.innerHTML = '';\n",
              "          dataTable['output_type'] = 'display_data';\n",
              "          await google.colab.output.renderOutput(dataTable, element);\n",
              "          const docLink = document.createElement('div');\n",
              "          docLink.innerHTML = docLinkHtml;\n",
              "          element.appendChild(docLink);\n",
              "        }\n",
              "      </script>\n",
              "    </div>\n",
              "  </div>\n",
              "  "
            ]
          },
          "metadata": {},
          "execution_count": 7
        }
      ],
      "source": [
        "df_store = df\n",
        "df = dfN.sample(frac=1).reset_index(drop=True)\n",
        "df"
      ]
    },
    {
      "cell_type": "code",
      "execution_count": null,
      "metadata": {
        "colab": {
          "base_uri": "https://localhost:8080/"
        },
        "id": "qbHheEcrwYAF",
        "outputId": "81d644f9-a9a9-4d86-c434-eaa638d76d86"
      },
      "outputs": [
        {
          "output_type": "execute_result",
          "data": {
            "text/plain": [
              "Headline       0\n",
              "Body_ID        0\n",
              "Stance         0\n",
              "articleBody    0\n",
              "dtype: int64"
            ]
          },
          "metadata": {},
          "execution_count": 8
        }
      ],
      "source": [
        "df.isnull().sum()"
      ]
    },
    {
      "cell_type": "code",
      "execution_count": null,
      "metadata": {
        "colab": {
          "base_uri": "https://localhost:8080/"
        },
        "id": "lWXHRG9FyOrZ",
        "outputId": "a0df2078-c598-444a-c772-9ab43990d123"
      },
      "outputs": [
        {
          "output_type": "stream",
          "name": "stdout",
          "text": [
            "<class 'pandas.core.frame.DataFrame'>\n",
            "RangeIndex: 200 entries, 0 to 199\n",
            "Data columns (total 4 columns):\n",
            " #   Column       Non-Null Count  Dtype \n",
            "---  ------       --------------  ----- \n",
            " 0   Headline     200 non-null    object\n",
            " 1   Body_ID      200 non-null    int64 \n",
            " 2   Stance       200 non-null    object\n",
            " 3   articleBody  200 non-null    object\n",
            "dtypes: int64(1), object(3)\n",
            "memory usage: 6.4+ KB\n"
          ]
        }
      ],
      "source": [
        "df.info()"
      ]
    },
    {
      "cell_type": "code",
      "execution_count": null,
      "metadata": {
        "colab": {
          "base_uri": "https://localhost:8080/",
          "height": 424
        },
        "id": "WKPH19OWyPyW",
        "outputId": "83a2557a-8c57-4fa4-b087-2c7e05196a0b"
      },
      "outputs": [
        {
          "output_type": "execute_result",
          "data": {
            "text/plain": [
              "                                              Headline     Stance  \\\n",
              "0    Shots Heard In Alleged Brown Shooting Recordin...    discuss   \n",
              "1    Who Is Michael Zehaf-Bibeau? Ottawa Shooter Su...  unrelated   \n",
              "2    Man who skipped work for 24 years is finally f...      agree   \n",
              "3    Islamic State militants allegedly used chlorin...    discuss   \n",
              "4    Fisherman lands 19 STONE catfish which could b...      agree   \n",
              "..                                                 ...        ...   \n",
              "195                                          Bali Awry  unrelated   \n",
              "196  Boko Haram ceasefire ignored as violence flare...   disagree   \n",
              "197       N. Korea’s Kim has leg injury but in control  unrelated   \n",
              "198                                        Cold Turkey      agree   \n",
              "199  Bugatti Veyron Vandalized With Penis Graffiti?...      agree   \n",
              "\n",
              "                                           articleBody  \n",
              "0    Video messaging app Glide on Thursday said it ...  \n",
              "1    The lethal animals are being launched at Iraqi...  \n",
              "2    An executive engineer at the Central Public Wo...  \n",
              "3    BAGHDAD / Nina /--Vice President Osama Nujaifi...  \n",
              "4    Dino Ferrari hooked the whopper wels catfish, ...  \n",
              "..                                                 ...  \n",
              "195  While Apple announced that the base model of i...  \n",
              "196  MAIDUGURI, Nigeria — The leader of Nigeria’s I...  \n",
              "197  You want a gold Apple Watch, you say? Then it'...  \n",
              "198  There it was in the middle of a field, baking ...  \n",
              "199  An image of a gold Bugatti Veyron graffitied w...  \n",
              "\n",
              "[200 rows x 3 columns]"
            ],
            "text/html": [
              "\n",
              "  <div id=\"df-dfb81c41-b7f7-4967-9aeb-99dc60ca74f0\">\n",
              "    <div class=\"colab-df-container\">\n",
              "      <div>\n",
              "<style scoped>\n",
              "    .dataframe tbody tr th:only-of-type {\n",
              "        vertical-align: middle;\n",
              "    }\n",
              "\n",
              "    .dataframe tbody tr th {\n",
              "        vertical-align: top;\n",
              "    }\n",
              "\n",
              "    .dataframe thead th {\n",
              "        text-align: right;\n",
              "    }\n",
              "</style>\n",
              "<table border=\"1\" class=\"dataframe\">\n",
              "  <thead>\n",
              "    <tr style=\"text-align: right;\">\n",
              "      <th></th>\n",
              "      <th>Headline</th>\n",
              "      <th>Stance</th>\n",
              "      <th>articleBody</th>\n",
              "    </tr>\n",
              "  </thead>\n",
              "  <tbody>\n",
              "    <tr>\n",
              "      <th>0</th>\n",
              "      <td>Shots Heard In Alleged Brown Shooting Recordin...</td>\n",
              "      <td>discuss</td>\n",
              "      <td>Video messaging app Glide on Thursday said it ...</td>\n",
              "    </tr>\n",
              "    <tr>\n",
              "      <th>1</th>\n",
              "      <td>Who Is Michael Zehaf-Bibeau? Ottawa Shooter Su...</td>\n",
              "      <td>unrelated</td>\n",
              "      <td>The lethal animals are being launched at Iraqi...</td>\n",
              "    </tr>\n",
              "    <tr>\n",
              "      <th>2</th>\n",
              "      <td>Man who skipped work for 24 years is finally f...</td>\n",
              "      <td>agree</td>\n",
              "      <td>An executive engineer at the Central Public Wo...</td>\n",
              "    </tr>\n",
              "    <tr>\n",
              "      <th>3</th>\n",
              "      <td>Islamic State militants allegedly used chlorin...</td>\n",
              "      <td>discuss</td>\n",
              "      <td>BAGHDAD / Nina /--Vice President Osama Nujaifi...</td>\n",
              "    </tr>\n",
              "    <tr>\n",
              "      <th>4</th>\n",
              "      <td>Fisherman lands 19 STONE catfish which could b...</td>\n",
              "      <td>agree</td>\n",
              "      <td>Dino Ferrari hooked the whopper wels catfish, ...</td>\n",
              "    </tr>\n",
              "    <tr>\n",
              "      <th>...</th>\n",
              "      <td>...</td>\n",
              "      <td>...</td>\n",
              "      <td>...</td>\n",
              "    </tr>\n",
              "    <tr>\n",
              "      <th>195</th>\n",
              "      <td>Bali Awry</td>\n",
              "      <td>unrelated</td>\n",
              "      <td>While Apple announced that the base model of i...</td>\n",
              "    </tr>\n",
              "    <tr>\n",
              "      <th>196</th>\n",
              "      <td>Boko Haram ceasefire ignored as violence flare...</td>\n",
              "      <td>disagree</td>\n",
              "      <td>MAIDUGURI, Nigeria — The leader of Nigeria’s I...</td>\n",
              "    </tr>\n",
              "    <tr>\n",
              "      <th>197</th>\n",
              "      <td>N. Korea’s Kim has leg injury but in control</td>\n",
              "      <td>unrelated</td>\n",
              "      <td>You want a gold Apple Watch, you say? Then it'...</td>\n",
              "    </tr>\n",
              "    <tr>\n",
              "      <th>198</th>\n",
              "      <td>Cold Turkey</td>\n",
              "      <td>agree</td>\n",
              "      <td>There it was in the middle of a field, baking ...</td>\n",
              "    </tr>\n",
              "    <tr>\n",
              "      <th>199</th>\n",
              "      <td>Bugatti Veyron Vandalized With Penis Graffiti?...</td>\n",
              "      <td>agree</td>\n",
              "      <td>An image of a gold Bugatti Veyron graffitied w...</td>\n",
              "    </tr>\n",
              "  </tbody>\n",
              "</table>\n",
              "<p>200 rows × 3 columns</p>\n",
              "</div>\n",
              "      <button class=\"colab-df-convert\" onclick=\"convertToInteractive('df-dfb81c41-b7f7-4967-9aeb-99dc60ca74f0')\"\n",
              "              title=\"Convert this dataframe to an interactive table.\"\n",
              "              style=\"display:none;\">\n",
              "        \n",
              "  <svg xmlns=\"http://www.w3.org/2000/svg\" height=\"24px\"viewBox=\"0 0 24 24\"\n",
              "       width=\"24px\">\n",
              "    <path d=\"M0 0h24v24H0V0z\" fill=\"none\"/>\n",
              "    <path d=\"M18.56 5.44l.94 2.06.94-2.06 2.06-.94-2.06-.94-.94-2.06-.94 2.06-2.06.94zm-11 1L8.5 8.5l.94-2.06 2.06-.94-2.06-.94L8.5 2.5l-.94 2.06-2.06.94zm10 10l.94 2.06.94-2.06 2.06-.94-2.06-.94-.94-2.06-.94 2.06-2.06.94z\"/><path d=\"M17.41 7.96l-1.37-1.37c-.4-.4-.92-.59-1.43-.59-.52 0-1.04.2-1.43.59L10.3 9.45l-7.72 7.72c-.78.78-.78 2.05 0 2.83L4 21.41c.39.39.9.59 1.41.59.51 0 1.02-.2 1.41-.59l7.78-7.78 2.81-2.81c.8-.78.8-2.07 0-2.86zM5.41 20L4 18.59l7.72-7.72 1.47 1.35L5.41 20z\"/>\n",
              "  </svg>\n",
              "      </button>\n",
              "      \n",
              "  <style>\n",
              "    .colab-df-container {\n",
              "      display:flex;\n",
              "      flex-wrap:wrap;\n",
              "      gap: 12px;\n",
              "    }\n",
              "\n",
              "    .colab-df-convert {\n",
              "      background-color: #E8F0FE;\n",
              "      border: none;\n",
              "      border-radius: 50%;\n",
              "      cursor: pointer;\n",
              "      display: none;\n",
              "      fill: #1967D2;\n",
              "      height: 32px;\n",
              "      padding: 0 0 0 0;\n",
              "      width: 32px;\n",
              "    }\n",
              "\n",
              "    .colab-df-convert:hover {\n",
              "      background-color: #E2EBFA;\n",
              "      box-shadow: 0px 1px 2px rgba(60, 64, 67, 0.3), 0px 1px 3px 1px rgba(60, 64, 67, 0.15);\n",
              "      fill: #174EA6;\n",
              "    }\n",
              "\n",
              "    [theme=dark] .colab-df-convert {\n",
              "      background-color: #3B4455;\n",
              "      fill: #D2E3FC;\n",
              "    }\n",
              "\n",
              "    [theme=dark] .colab-df-convert:hover {\n",
              "      background-color: #434B5C;\n",
              "      box-shadow: 0px 1px 3px 1px rgba(0, 0, 0, 0.15);\n",
              "      filter: drop-shadow(0px 1px 2px rgba(0, 0, 0, 0.3));\n",
              "      fill: #FFFFFF;\n",
              "    }\n",
              "  </style>\n",
              "\n",
              "      <script>\n",
              "        const buttonEl =\n",
              "          document.querySelector('#df-dfb81c41-b7f7-4967-9aeb-99dc60ca74f0 button.colab-df-convert');\n",
              "        buttonEl.style.display =\n",
              "          google.colab.kernel.accessAllowed ? 'block' : 'none';\n",
              "\n",
              "        async function convertToInteractive(key) {\n",
              "          const element = document.querySelector('#df-dfb81c41-b7f7-4967-9aeb-99dc60ca74f0');\n",
              "          const dataTable =\n",
              "            await google.colab.kernel.invokeFunction('convertToInteractive',\n",
              "                                                     [key], {});\n",
              "          if (!dataTable) return;\n",
              "\n",
              "          const docLinkHtml = 'Like what you see? Visit the ' +\n",
              "            '<a target=\"_blank\" href=https://colab.research.google.com/notebooks/data_table.ipynb>data table notebook</a>'\n",
              "            + ' to learn more about interactive tables.';\n",
              "          element.innerHTML = '';\n",
              "          dataTable['output_type'] = 'display_data';\n",
              "          await google.colab.output.renderOutput(dataTable, element);\n",
              "          const docLink = document.createElement('div');\n",
              "          docLink.innerHTML = docLinkHtml;\n",
              "          element.appendChild(docLink);\n",
              "        }\n",
              "      </script>\n",
              "    </div>\n",
              "  </div>\n",
              "  "
            ]
          },
          "metadata": {},
          "execution_count": 10
        }
      ],
      "source": [
        "df.drop('Body_ID', inplace=True, axis=1)\n",
        "df"
      ]
    },
    {
      "cell_type": "code",
      "execution_count": null,
      "metadata": {
        "colab": {
          "base_uri": "https://localhost:8080/"
        },
        "id": "h3DSMGGjyej_",
        "outputId": "0076a3ed-f937-4a2c-bae4-c4b31b736037"
      },
      "outputs": [
        {
          "output_type": "execute_result",
          "data": {
            "text/plain": [
              "(                                            Headline  \\\n",
              " 0  Shots Heard In Alleged Brown Shooting Recordin...   \n",
              " 1  Who Is Michael Zehaf-Bibeau? Ottawa Shooter Su...   \n",
              " 2  Man who skipped work for 24 years is finally f...   \n",
              " 3  Islamic State militants allegedly used chlorin...   \n",
              " 4  Fisherman lands 19 STONE catfish which could b...   \n",
              " \n",
              "                                          articleBody  \n",
              " 0  Video messaging app Glide on Thursday said it ...  \n",
              " 1  The lethal animals are being launched at Iraqi...  \n",
              " 2  An executive engineer at the Central Public Wo...  \n",
              " 3  BAGHDAD / Nina /--Vice President Osama Nujaifi...  \n",
              " 4  Dino Ferrari hooked the whopper wels catfish, ...  , 0      discuss\n",
              " 1    unrelated\n",
              " 2        agree\n",
              " 3      discuss\n",
              " 4        agree\n",
              " Name: Stance, dtype: object)"
            ]
          },
          "metadata": {},
          "execution_count": 11
        }
      ],
      "source": [
        "X_train = df.drop('Stance', axis=1)\n",
        "y_train = df[\"Stance\"]\n",
        "X_train.head(), y_train.head()"
      ]
    },
    {
      "cell_type": "code",
      "execution_count": null,
      "metadata": {
        "colab": {
          "base_uri": "https://localhost:8080/"
        },
        "id": "9E7EdFuVy1ev",
        "outputId": "7c4c6f02-12aa-49d5-8251-41c598535a9d"
      },
      "outputs": [
        {
          "output_type": "execute_result",
          "data": {
            "text/plain": [
              "182"
            ]
          },
          "metadata": {},
          "execution_count": 12
        }
      ],
      "source": [
        "max(len(art) for art in df['Headline'])"
      ]
    },
    {
      "cell_type": "markdown",
      "metadata": {
        "id": "pMDaLdJe6jPl"
      },
      "source": [
        "## Featuring the dataset"
      ]
    },
    {
      "cell_type": "markdown",
      "metadata": {
        "id": "LTaz4p516c4s"
      },
      "source": [
        "## Neural Embeddings\n",
        "### For Skip-Thought Vector Embeddings"
      ]
    },
    {
      "cell_type": "code",
      "execution_count": null,
      "metadata": {
        "id": "fw-Y-F2LzsyC"
      },
      "outputs": [],
      "source": [
        "!wget http://www.cs.toronto.edu/~rkiros/models/dictionary.txt\n",
        "!wget http://www.cs.toronto.edu/~rkiros/models/utable.npy\n",
        "!wget http://www.cs.toronto.edu/~rkiros/models/btable.npy\n",
        "!wget http://www.cs.toronto.edu/~rkiros/models/uni_skip.npz\n",
        "!wget http://www.cs.toronto.edu/~rkiros/models/uni_skip.npz.pkl\n",
        "!wget http://www.cs.toronto.edu/~rkiros/models/bi_skip.npz\n",
        "!wget http://www.cs.toronto.edu/~rkiros/models/bi_skip.npz.pkl\n",
        "!git clone https://github.com/ashish620-boogle/skip-thoughts.git\n",
        "!mv skip-thoughts/ skipThoughts"
      ]
    },
    {
      "cell_type": "code",
      "execution_count": null,
      "metadata": {
        "id": "RTfydamLFpyG"
      },
      "outputs": [],
      "source": [
        "!mkdir u\n",
        "!mkdir u/rkiros\n",
        "!mkdir u/rkiros/public_html\n",
        "!mkdir u/rkiros/public_html/models\n",
        "!mv uni_skip.npz.pkl u/rkiros/public_html/models/\n",
        "!mv bi_skip.npz.pkl u/rkiros/public_html/models/\n",
        "!mv u /\n",
        "!mv uni_skip.npz /u/rkiros/public_html/models/\n",
        "!mv bi_skip.npz /u/rkiros/public_html/models/\n",
        "!mv utable.npy /u/rkiros/public_html/models/\n",
        "!mv btable.npy /u/rkiros/public_html/models/\n",
        "!mv dictionary.txt /u/rkiros/public_html/models/"
      ]
    },
    {
      "cell_type": "code",
      "execution_count": null,
      "metadata": {
        "colab": {
          "base_uri": "https://localhost:8080/"
        },
        "id": "Iq7lcHeLl3Kd",
        "outputId": "9dfdf7be-b096-47d5-f813-c31fcc08a1ac"
      },
      "outputs": [
        {
          "output_type": "stream",
          "name": "stdout",
          "text": [
            "Looking in indexes: https://pypi.org/simple, https://us-python.pkg.dev/colab-wheels/public/simple/\n",
            "\u001b[31mERROR: Could not find a version that satisfies the requirement ntlk (from versions: none)\u001b[0m\n",
            "\u001b[31mERROR: No matching distribution found for ntlk\u001b[0m\n",
            "Looking in indexes: https://pypi.org/simple, https://us-python.pkg.dev/colab-wheels/public/simple/\n",
            "Requirement already satisfied: theano in /usr/local/lib/python3.7/dist-packages (1.0.5)\n",
            "Requirement already satisfied: six>=1.9.0 in /usr/local/lib/python3.7/dist-packages (from theano) (1.15.0)\n",
            "Requirement already satisfied: numpy>=1.9.1 in /usr/local/lib/python3.7/dist-packages (from theano) (1.21.6)\n",
            "Requirement already satisfied: scipy>=0.14 in /usr/local/lib/python3.7/dist-packages (from theano) (1.7.3)\n"
          ]
        }
      ],
      "source": [
        "!pip install ntlk\n",
        "!pip install theano"
      ]
    },
    {
      "cell_type": "code",
      "execution_count": null,
      "metadata": {
        "colab": {
          "base_uri": "https://localhost:8080/"
        },
        "id": "lUlWeCenmgwp",
        "outputId": "c63ee8dd-7ea5-4f3e-db4b-9281823f68c9"
      },
      "outputs": [
        {
          "output_type": "stream",
          "name": "stderr",
          "text": [
            "[nltk_data] Downloading package punkt to /root/nltk_data...\n",
            "[nltk_data]   Package punkt is already up-to-date!\n"
          ]
        },
        {
          "output_type": "execute_result",
          "data": {
            "text/plain": [
              "True"
            ]
          },
          "metadata": {},
          "execution_count": 14
        }
      ],
      "source": [
        "import nltk\n",
        "nltk.download('punkt')"
      ]
    },
    {
      "cell_type": "code",
      "execution_count": null,
      "metadata": {
        "id": "K3o0lgiW6l_M"
      },
      "outputs": [],
      "source": [
        "import sys\n",
        "while(sys.path[0]=='skipThoughts'):\n",
        "  sys.path.remove('skipThoughts')\n",
        "sys.path.insert(0, '/content/skipThoughts')\n",
        "import skipthoughts\n",
        "# my_model_skip_thoughts = skipthoughts.load_model()\n",
        "# encoder = skipthoughts.Encoder(my_model_skip_thoughts)\n",
        "# skip_thought_vectors_headline = encoder.encode(X_train['Headline'])\n",
        "# vectors_body = encoder.encode(X_train['articleBody'])"
      ]
    },
    {
      "cell_type": "markdown",
      "metadata": {
        "id": "Ydb2fOKu7U5G"
      },
      "source": [
        "## Stastical Features\n",
        "### 1-gram TF for Headline and Body\n",
        "\n",
        "This is to create stastical feature of our neural network. We will take the array as an input and get a vector of dimension 5000 each for body and headline. The array will represent the frequency of each term in the sentence or article."
      ]
    },
    {
      "cell_type": "code",
      "execution_count": null,
      "metadata": {
        "id": "o1ywujYSTlWV"
      },
      "outputs": [],
      "source": [
        "import numpy as np\n",
        "import tensorflow as tf\n",
        "import re\n",
        "from sklearn.feature_extraction.text import TfidfVectorizer\n",
        "\n",
        "N_GRAM = 1\n",
        "def string_preprocess(xs):\n",
        "  xs = str(xs)\n",
        "  xs = re.sub(r'[^a-zA-Z]+', ' ', xs)\n",
        "  xs = re.sub('\\ \\ ', ' ', xs)\n",
        "  return xs"
      ]
    },
    {
      "cell_type": "markdown",
      "metadata": {
        "id": "q5LcmD9wSABc"
      },
      "source": [
        "## External Features\n"
      ]
    },
    {
      "cell_type": "markdown",
      "metadata": {
        "id": "NRmnLre1VFK2"
      },
      "source": [
        "### Sentiment analysis feature vector (4+4)"
      ]
    },
    {
      "cell_type": "code",
      "execution_count": null,
      "metadata": {
        "id": "DCEgpVr1uqVO",
        "colab": {
          "base_uri": "https://localhost:8080/"
        },
        "outputId": "aad14260-2c4d-4561-fc7f-7683d0bac8bb"
      },
      "outputs": [
        {
          "output_type": "stream",
          "name": "stdout",
          "text": [
            "Looking in indexes: https://pypi.org/simple, https://us-python.pkg.dev/colab-wheels/public/simple/\n",
            "Requirement already satisfied: vaderSentiment in /usr/local/lib/python3.7/dist-packages (3.3.2)\n",
            "Requirement already satisfied: requests in /usr/local/lib/python3.7/dist-packages (from vaderSentiment) (2.23.0)\n",
            "Requirement already satisfied: urllib3!=1.25.0,!=1.25.1,<1.26,>=1.21.1 in /usr/local/lib/python3.7/dist-packages (from requests->vaderSentiment) (1.24.3)\n",
            "Requirement already satisfied: idna<3,>=2.5 in /usr/local/lib/python3.7/dist-packages (from requests->vaderSentiment) (2.10)\n",
            "Requirement already satisfied: chardet<4,>=3.0.2 in /usr/local/lib/python3.7/dist-packages (from requests->vaderSentiment) (3.0.4)\n",
            "Requirement already satisfied: certifi>=2017.4.17 in /usr/local/lib/python3.7/dist-packages (from requests->vaderSentiment) (2022.9.24)\n"
          ]
        }
      ],
      "source": [
        "!pip install vaderSentiment"
      ]
    },
    {
      "cell_type": "code",
      "execution_count": null,
      "metadata": {
        "id": "YwSCP1md1BiX"
      },
      "outputs": [],
      "source": [
        "from vaderSentiment.vaderSentiment import SentimentIntensityAnalyzer\n",
        "\n",
        "def sentiment_vader(sentence):\n",
        "\n",
        "    sid_obj = SentimentIntensityAnalyzer()\n",
        "\n",
        "    sentiment_dict = sid_obj.polarity_scores(sentence)\n",
        "    negative = sentiment_dict['neg']\n",
        "    neutral = sentiment_dict['neu']\n",
        "    positive = sentiment_dict['pos']\n",
        "    compound = sentiment_dict['compound']\n",
        "\n",
        "    if sentiment_dict['compound'] >= 0.05 :\n",
        "        overall_sentiment = 2\n",
        "\n",
        "    elif sentiment_dict['compound'] <= - 0.05 :\n",
        "        overall_sentiment = 0\n",
        "\n",
        "    else :\n",
        "        overall_sentiment = 1\n",
        "  \n",
        "    return overall_sentiment"
      ]
    },
    {
      "cell_type": "code",
      "execution_count": null,
      "metadata": {
        "id": "NVxoMy1XIqks",
        "colab": {
          "base_uri": "https://localhost:8080/"
        },
        "outputId": "1418f0c9-884f-4406-b9cf-b46fd6f5a1f3"
      },
      "outputs": [
        {
          "output_type": "stream",
          "name": "stderr",
          "text": [
            "[nltk_data] Downloading package punkt to /root/nltk_data...\n",
            "[nltk_data]   Package punkt is already up-to-date!\n"
          ]
        },
        {
          "output_type": "execute_result",
          "data": {
            "text/plain": [
              "True"
            ]
          },
          "metadata": {},
          "execution_count": 19
        }
      ],
      "source": [
        "import nltk\n",
        "nltk.download('punkt')"
      ]
    },
    {
      "cell_type": "code",
      "execution_count": null,
      "metadata": {
        "id": "Z--f0xZUHCU6"
      },
      "outputs": [],
      "source": [
        "from nltk.tokenize import sent_tokenize\n",
        "sid = SentimentIntensityAnalyzer()\n",
        "def compute_sentiment(sentences):\n",
        "            result = []\n",
        "            for sentence in sentences:\n",
        "                vs = sid.polarity_scores(sentence)\n",
        "                result.append(vs)\n",
        "            return pd.DataFrame(result).mean()\n",
        "# df['headline_sents'] = df['Headline'].apply(lambda x: sent_tokenize(x))\n",
        "# df = pd.concat([df, df['headline_sents'].apply(lambda x: compute_sentiment(x))], axis=1)\n",
        "# df.rename(columns={'compound':'h_compound', 'neg':'h_neg', 'neu':'h_neu', 'pos':'h_pos'}, inplace=True)\n",
        "# df['body_sents'] = df['articleBody'].apply(lambda x: sent_tokenize(x))\n",
        "# df = pd.concat([df, df['body_sents'].apply(lambda x: compute_sentiment(x))], axis=1)\n",
        "# df.rename(columns={'compound':'b_compound', 'neg':'b_neg', 'neu':'b_neu', 'pos':'b_pos'}, inplace=True)\n",
        "# df"
      ]
    },
    {
      "cell_type": "markdown",
      "metadata": {
        "id": "G93UjOHSVT4g"
      },
      "source": [
        "### Tf-idf score between headline and its body"
      ]
    },
    {
      "cell_type": "code",
      "execution_count": null,
      "metadata": {
        "id": "ZDJOMZaISzm9"
      },
      "outputs": [],
      "source": [
        "# importing libraries\n",
        "from sklearn.feature_extraction.text import TfidfVectorizer\n",
        "from sklearn.metrics.pairwise import cosine_similarity\n",
        "from sklearn.metrics import pairwise_distances\n",
        "from sklearn.metrics.pairwise import euclidean_distances\n",
        "from scipy.spatial import distance\n",
        "import pandas as pd\n",
        "import numpy as np\n",
        "\n",
        "## Converting 3D array of array into 1D array\n",
        "def arr_convert_1d(arr):\n",
        "\tarr = np.array(arr)\n",
        "\tarr = np.concatenate( arr, axis=0 )\n",
        "\tarr = np.concatenate( arr, axis=0 )\n",
        "\treturn arr\n",
        "\n",
        "## Cosine Similarity\n",
        "cos = []\n",
        "def cosine(trans):\n",
        "\tcos.append(cosine_similarity(trans[0], trans[1]))\n",
        "\n",
        "## Manhattan Distance\n",
        "manhatten = []\n",
        "def manhatten_distance(trans):\n",
        "\tmanhatten.append(pairwise_distances(trans[0], trans[1],\n",
        "\t\t\t\t\t\t\t\t\t\tmetric = 'manhattan'))\n",
        "\n",
        "## Euclidean Distance\n",
        "euclidean = []\n",
        "def euclidean_function(vectors):\n",
        "\teuc=euclidean_distances(vectors[0], vectors[1])\n",
        "\teuclidean.append(euc)\n",
        "\n",
        "# This Function finds the similarity between two\n",
        "# sentences by using above functions.\n",
        "\n",
        "## TF - IDF\n",
        "def tfidf(str1, str2):\n",
        "\tvect = TfidfVectorizer()\n",
        "\t# Fit the your whole dataset. After all, this'll\n",
        "\t# produce the vectors which is based on words in corpus/dataset\n",
        "\tvect.fit(X_train['articleBody'])\n",
        "\n",
        "\tcorpus = [str1,str2]\n",
        "\ttrans = vect.transform(corpus)\n",
        "\n",
        "\teuclidean_function(trans)\n",
        "\tcosine(trans)\n",
        "\tmanhatten_distance(trans)\n",
        "\treturn convert()\n",
        "\n",
        "def convert():\n",
        "\tdataf = {}\n",
        "\tlis2 = arr_convert_1d(manhatten)\n",
        "\tdataf['manhatten'] = lis2\n",
        "\tlis2 = arr_convert_1d(cos)\n",
        "\tdataf['cos_sim'] = lis2\n",
        "\tlis2 = arr_convert_1d(euclidean)\n",
        "\tdataf['euclidean'] = lis2\n",
        "\treturn dataf\n",
        "\n",
        "# newData = {'manhatten':np.array([]), 'cos_sim':np.array([]), 'euclidean':np.array([])}\n",
        "# str1 = X_train['Headline']\n",
        "# str2 = X_train['articleBody']\n",
        "# for i,j in zip(str1,str2):\n",
        "#   newData['manhatten'] = np.append(newData['manhatten'],np.average(tfidf(i,j)['manhatten']))\n",
        "#   newData['cos_sim'] = np.append(newData['cos_sim'],np.average(tfidf(i,j)['cos_sim']))\n",
        "#   newData['euclidean'] = np.append(newData['euclidean'],np.average(tfidf(i,j)['euclidean']))\n",
        "# newData['manhatten']/=newData['manhatten'].max()\n",
        "# newData['cos_sim']/=newData['cos_sim'].max()\n",
        "# newData['euclidean']/=newData['euclidean'].max()\n",
        "# X_train['manhatten'] = newData['manhatten']\n",
        "# X_train['cos_sim'] = newData['cos_sim']\n",
        "# X_train['euclidean'] = newData['euclidean']\n",
        "# X_train"
      ]
    },
    {
      "cell_type": "markdown",
      "metadata": {
        "id": "2G05r4m2dJ6q"
      },
      "source": [
        "### N-gram characters count\n",
        "### N-gram words count"
      ]
    },
    {
      "cell_type": "code",
      "execution_count": null,
      "metadata": {
        "id": "XllSoAYPfbMC"
      },
      "outputs": [],
      "source": [
        "import re\n",
        "from nltk.util import ngrams\n",
        "\n",
        "def generate_ngrams_sentences(n, s):\n",
        "  s = str(s)\n",
        "  s = s.lower()\n",
        "  s = re.sub(r'[^a-zA-Z0-9\\s]', ' ', s)\n",
        "  tokens = [token for token in s.split(\" \") if token != \"\"]\n",
        "  output = list(ngrams(tokens, n))\n",
        "  return output\n",
        "\n",
        "def generate_ngrams_words(n, s):\n",
        "  s = str(s)\n",
        "  s = s.lower()\n",
        "  s = re.sub(r'[^a-zA-Z0-9\\s]', '', s)\n",
        "  s = s.replace(' ', '')\n",
        "  y= [ ]\n",
        "  for x in range(len(s)):\n",
        "    b = s[x:x+n]\n",
        "    if(len(b)<n):\n",
        "      break\n",
        "    y.append(b)\n",
        "  return y"
      ]
    },
    {
      "cell_type": "code",
      "execution_count": null,
      "metadata": {
        "id": "lqGUJJE8AOMU"
      },
      "outputs": [],
      "source": [
        "def num_of_matches(dicti, dict1):\n",
        "  count = 0\n",
        "  for x,y in zip(dicti.values(), dict1.values()):\n",
        "      count += len(list(set(x).intersection(y)))\n",
        "  return count"
      ]
    },
    {
      "cell_type": "markdown",
      "metadata": {
        "id": "pee-0-cxosPO"
      },
      "source": [
        "## Model"
      ]
    },
    {
      "cell_type": "markdown",
      "source": [
        "**These are the functions.**\n",
        "```\n",
        "Give them pandas dataframe containing headline and body. \n",
        "Once, run all three first with the training sample with ld_model=True. \n",
        "Delete the output if the memory is full all we need is encoder of neural_embed_model() and vectorizer and vectorizer_1 of stastical_features(). \n",
        "Pass the real world sample to the functions with ld_model=False.\n",
        "Save the values returned by each of the three functions.\n",
        "```"
      ],
      "metadata": {
        "id": "WYaHslchD3y0"
      }
    },
    {
      "cell_type": "code",
      "execution_count": null,
      "metadata": {
        "id": "jWvQaF2OeAZF"
      },
      "outputs": [],
      "source": [
        "def neural_embed_model(sample_, ld_model=True):\n",
        "  if ld_model: \n",
        "    my_model_skip_thoughts = skipthoughts.load_model()\n",
        "    encoder = skipthoughts.Encoder(my_model_skip_thoughts)\n",
        "  skip_thought_vectors_headline = encoder.encode(sample_['Headline'])\n",
        "  vectors_body = encoder.encode(sample_['articleBody'])\n",
        "  feat1 = np.array(skip_thought_vectors_headline * vectors_body, dtype=np.float64)\n",
        "  feat2 = np.array(abs(vectors_body - skip_thought_vectors_headline), dtype= np.float64)\n",
        "  feat1_ = np.concatenate((feat1,feat2),axis=1)\n",
        " \n",
        "  return feat1_\n",
        "\n",
        "\n",
        "\n",
        "def external_features(sample_):\n",
        "\n",
        "  # Sentiment analysis\n",
        "  sample_['headline_sents'] = sample_['Headline'].apply(lambda x: sent_tokenize(x))\n",
        "  sample_ = pd.concat([sample_, sample_['headline_sents'].apply(lambda x: compute_sentiment(x))], axis=1)\n",
        "  sample_.rename(columns={'compound':'h_compound', 'neg':'h_neg', 'neu':'h_neu', 'pos':'h_pos'}, inplace=True)\n",
        "  sample_['body_sents'] = sample_['articleBody'].apply(lambda x: sent_tokenize(x))\n",
        "  sample_ = pd.concat([sample_, sample_['body_sents'].apply(lambda x: compute_sentiment(x))], axis=1)\n",
        "  sample_.rename(columns={'compound':'b_compound', 'neg':'b_neg', 'neu':'b_neu', 'pos':'b_pos'}, inplace=True)\n",
        "\n",
        "  # Tf-idf score\n",
        "  newData = {'manhatten':np.array([]), 'cos_sim':np.array([]), 'euclidean':np.array([])}\n",
        "  str1 = sample_['Headline']\n",
        "  str2 = sample_['articleBody']\n",
        "  for i,j in zip(str1,str2):\n",
        "    newData['manhatten'] = np.append(newData['manhatten'],np.average(tfidf(i,j)['manhatten']))\n",
        "    newData['cos_sim'] = np.append(newData['cos_sim'],np.average(tfidf(i,j)['cos_sim']))\n",
        "    newData['euclidean'] = np.append(newData['euclidean'],np.average(tfidf(i,j)['euclidean']))\n",
        "  newData['manhatten']/=newData['manhatten'].max()\n",
        "  newData['cos_sim']/=newData['cos_sim'].max()\n",
        "  newData['euclidean']/=newData['euclidean'].max()\n",
        "  sample_['manhatten'] = newData['manhatten']\n",
        "  sample_['cos_sim'] = newData['cos_sim']\n",
        "  sample_['euclidean'] = newData['euclidean']\n",
        "\n",
        "  # n-gram word match\n",
        "  n_gram_word_body = []\n",
        "  n_gram_word_headline = []\n",
        "  for s in sample_['Headline']:\n",
        "    n_gram_word_headline.append([dict(zip([x],[ngrams(s.lower(), x)])) for x in range(2,17)])\n",
        "  for s in sample_['articleBody']:\n",
        "    n_gram_word_body.append([dict(zip([x],[ngrams(s.lower(), x)])) for x in range(2,17)])\n",
        "\n",
        "  input_3_1 = []\n",
        "  for i in range(len(n_gram_word_body)):\n",
        "    input_3_1.append(list(num_of_matches(b,a) for a,b in zip(n_gram_word_body[i], n_gram_word_headline[i])))\n",
        "  input_3_1 = np.array(input_3_1)\n",
        "\n",
        "  feat = ['bi-gram', 'tri-gram', 'quad-gram', 'pent-gram', 'hex-gram', 'sept-gram', 'oct-gram', 'non-gram', 'dec-gram', '11-gram', '12-gram', '13-gram', '14-gram', '15-gram', '16-gram']\n",
        "  for ind,features in enumerate(feat):\n",
        "    sample_[features] = input_3_1[:,ind]\n",
        "  \n",
        "  # n-gram sentence match\n",
        "  n_gram_body = []\n",
        "  n_gram_headline = []\n",
        "  for s in sample_['Headline']:\n",
        "    n_gram_headline.append([dict(zip([x],[ngrams(s.lower().split(), x)])) for x in range(2,7)])\n",
        "  for s in sample_['articleBody']:\n",
        "    n_gram_body.append([dict(zip([x],[ngrams(s.lower().split(), x)])) for x in range(2,7)])\n",
        "  \n",
        "  input_3_1 = []\n",
        "  for i in range(len(n_gram_body)):\n",
        "    input_3_1.append(list(num_of_matches(b,a) for a,b in zip(n_gram_body[i], n_gram_headline[i])))\n",
        "  input_3_1 = np.array(input_3_1)\n",
        "\n",
        "  feat = ['bi-gram', 'tri-gram', 'quad-gram', 'pent-gram', 'hex-gram']\n",
        "  for ind,features in enumerate(feat):\n",
        "    sample_[str(features+\"-sent\")] = input_3_1[:,ind]\n",
        "\n",
        "  feat1_ = np.array(sample_.drop(columns=['Headline', 'articleBody', 'body_sents', 'headline_sents'], axis=1), dtype=np.float32)\n",
        "\n",
        " \n",
        "  return feat1_\n",
        "\n",
        "\n",
        "\n",
        "def stastical_features(sample_, ld_model=True):\n",
        "\n",
        "  N_GRAM = 1\n",
        "  for x in sample_['Headline']:\n",
        "    xs = string_preprocess(x)\n",
        "    sample_['Headline'].loc[sample_['Headline']==x] = xs\n",
        "\n",
        "  for x in sample_['articleBody']:\n",
        "    xs = string_preprocess(x)\n",
        "    sample_['articleBody'].loc[sample_['articleBody']==x] = xs\n",
        "\n",
        "  if ld_model:\n",
        "    vectorizer = TfidfVectorizer(ngram_range=(N_GRAM, N_GRAM))\n",
        "  TF_Vect_headline = vectorizer.fit_transform(sample_['Headline'])\n",
        "  if ld_model:\n",
        "    vectorizer_1 = TfidfVectorizer(ngram_range=(N_GRAM, N_GRAM), max_features=10000-TF_Vect_headline.shape[1])\n",
        "  TF_Vect_body = vectorizer_1.fit_transform(sample_['articleBody'] )\n",
        "  feat1_ = np.concatenate((np.array(TF_Vect_headline.toarray()),np.array(TF_Vect_body.toarray())),axis = 1)\n",
        "\n",
        "  return feat1_"
      ]
    },
    {
      "cell_type": "code",
      "execution_count": null,
      "metadata": {
        "id": "4Hr5KiZRwICP"
      },
      "outputs": [],
      "source": [
        "def final_model(sB=(10000,)):\n",
        "  inputA = tf.keras.Input(shape=(9600,))\n",
        "  inputB = tf.keras.Input(shape=sB)\n",
        "  inputC = tf.keras.Input(shape=(31,))\n",
        "\n",
        "  # NE\n",
        "  x = tf.keras.layers.Dense(500)(inputA)\n",
        "  x = tf.keras.layers.Dropout(0.5)(x)\n",
        "  x = tf.keras.layers.ActivityRegularization(l2=0.00000001)(x)\n",
        "  x = tf.keras.layers.Activation('sigmoid')(x)\n",
        "  x = tf.keras.layers.Dense(100)(x)\n",
        "  outputA = tf.keras.layers.Activation('sigmoid')(x)\n",
        "\n",
        "  # EF\n",
        "  y = tf.keras.layers.Dense(50)(inputC)\n",
        "  outputC = tf.keras.layers.Activation('relu')(y)\n",
        "\n",
        "  # SF\n",
        "  z = tf.keras.layers.Dense(500)(inputB)\n",
        "  z = tf.keras.layers.Dropout(0.4)(z)\n",
        "  z = tf.keras.layers.ActivityRegularization(l2=0.00005)(z)\n",
        "  z = tf.keras.layers.Activation('relu')(z)\n",
        "  z = tf.keras.layers.Dense(50)(z)\n",
        "  outputB = tf.keras.layers.Activation('relu')(z)\n",
        "\n",
        "  ff = tf.keras.layers.Concatenate()([outputA, outputB, outputC])\n",
        "  ff = tf.keras.layers.BatchNormalization()(ff)\n",
        "  ff = tf.keras.layers.Dense(4)(ff)\n",
        "  outputs = tf.keras.layers.Activation('softmax')(ff)\n",
        "\n",
        "  return tf.keras.Model(inputs=[inputA, inputB, inputC], outputs=outputs, name='FNC_Model')"
      ]
    },
    {
      "cell_type": "code",
      "source": [
        "exff = external_features(X_train)\n",
        "exff[0]"
      ],
      "metadata": {
        "colab": {
          "base_uri": "https://localhost:8080/"
        },
        "id": "lWaQsioo3t5P",
        "outputId": "ef7a0171-bfbd-48a8-b501-f091e80673ee"
      },
      "execution_count": null,
      "outputs": [
        {
          "output_type": "execute_result",
          "data": {
            "text/plain": [
              "array([ 0.0000000e+00,  1.0000000e+00,  0.0000000e+00,  0.0000000e+00,\n",
              "        2.2222223e-02,  9.4633335e-01,  3.1444445e-02, -5.1555554e-03,\n",
              "        9.3480796e-01,  8.0163395e-01,  9.4632089e-01,  3.9000000e+01,\n",
              "        3.8000000e+01,  2.8000000e+01,  2.1000000e+01,  1.5000000e+01,\n",
              "        1.0000000e+01,  7.0000000e+00,  5.0000000e+00,  3.0000000e+00,\n",
              "        1.0000000e+00,  0.0000000e+00,  0.0000000e+00,  0.0000000e+00,\n",
              "        0.0000000e+00,  0.0000000e+00,  1.0000000e+00,  0.0000000e+00,\n",
              "        0.0000000e+00,  0.0000000e+00,  0.0000000e+00], dtype=float32)"
            ]
          },
          "metadata": {},
          "execution_count": 26
        }
      ]
    },
    {
      "cell_type": "code",
      "source": [
        "stff = stastical_features(X_train)\n",
        "stff.shape"
      ],
      "metadata": {
        "colab": {
          "base_uri": "https://localhost:8080/"
        },
        "id": "Aq3GXsAcp4sg",
        "outputId": "5ac9719e-a971-4329-d02b-9dda9b19764c"
      },
      "execution_count": null,
      "outputs": [
        {
          "output_type": "execute_result",
          "data": {
            "text/plain": [
              "(200, 9299)"
            ]
          },
          "metadata": {},
          "execution_count": 27
        }
      ]
    },
    {
      "cell_type": "code",
      "source": [
        "stff.shape[1]"
      ],
      "metadata": {
        "colab": {
          "base_uri": "https://localhost:8080/"
        },
        "id": "7XHAmLzO7cNe",
        "outputId": "926eb784-43c4-46a6-8e75-7467e1259cd1"
      },
      "execution_count": null,
      "outputs": [
        {
          "output_type": "execute_result",
          "data": {
            "text/plain": [
              "9299"
            ]
          },
          "metadata": {},
          "execution_count": 28
        }
      ]
    },
    {
      "cell_type": "code",
      "execution_count": null,
      "metadata": {
        "id": "mOjSGgIDyJrl"
      },
      "outputs": [],
      "source": [
        "model = final_model(sB=(stff.shape[1],))"
      ]
    },
    {
      "cell_type": "code",
      "execution_count": null,
      "metadata": {
        "id": "nfJqyhA5z6Ig",
        "colab": {
          "base_uri": "https://localhost:8080/"
        },
        "outputId": "01a3aa1e-1f22-40aa-b8ad-f191c4f5008b"
      },
      "outputs": [
        {
          "output_type": "stream",
          "name": "stdout",
          "text": [
            "Model: \"FNC_Model\"\n",
            "__________________________________________________________________________________________________\n",
            " Layer (type)                   Output Shape         Param #     Connected to                     \n",
            "==================================================================================================\n",
            " input_1 (InputLayer)           [(None, 9600)]       0           []                               \n",
            "                                                                                                  \n",
            " input_2 (InputLayer)           [(None, 9299)]       0           []                               \n",
            "                                                                                                  \n",
            " dense (Dense)                  (None, 500)          4800500     ['input_1[0][0]']                \n",
            "                                                                                                  \n",
            " dense_3 (Dense)                (None, 500)          4650000     ['input_2[0][0]']                \n",
            "                                                                                                  \n",
            " dropout (Dropout)              (None, 500)          0           ['dense[0][0]']                  \n",
            "                                                                                                  \n",
            " dropout_1 (Dropout)            (None, 500)          0           ['dense_3[0][0]']                \n",
            "                                                                                                  \n",
            " activity_regularization (Activ  (None, 500)         0           ['dropout[0][0]']                \n",
            " ityRegularization)                                                                               \n",
            "                                                                                                  \n",
            " activity_regularization_1 (Act  (None, 500)         0           ['dropout_1[0][0]']              \n",
            " ivityRegularization)                                                                             \n",
            "                                                                                                  \n",
            " activation (Activation)        (None, 500)          0           ['activity_regularization[0][0]']\n",
            "                                                                                                  \n",
            " activation_3 (Activation)      (None, 500)          0           ['activity_regularization_1[0][0]\n",
            "                                                                 ']                               \n",
            "                                                                                                  \n",
            " input_3 (InputLayer)           [(None, 31)]         0           []                               \n",
            "                                                                                                  \n",
            " dense_1 (Dense)                (None, 100)          50100       ['activation[0][0]']             \n",
            "                                                                                                  \n",
            " dense_4 (Dense)                (None, 50)           25050       ['activation_3[0][0]']           \n",
            "                                                                                                  \n",
            " dense_2 (Dense)                (None, 50)           1600        ['input_3[0][0]']                \n",
            "                                                                                                  \n",
            " activation_1 (Activation)      (None, 100)          0           ['dense_1[0][0]']                \n",
            "                                                                                                  \n",
            " activation_4 (Activation)      (None, 50)           0           ['dense_4[0][0]']                \n",
            "                                                                                                  \n",
            " activation_2 (Activation)      (None, 50)           0           ['dense_2[0][0]']                \n",
            "                                                                                                  \n",
            " concatenate (Concatenate)      (None, 200)          0           ['activation_1[0][0]',           \n",
            "                                                                  'activation_4[0][0]',           \n",
            "                                                                  'activation_2[0][0]']           \n",
            "                                                                                                  \n",
            " batch_normalization (BatchNorm  (None, 200)         800         ['concatenate[0][0]']            \n",
            " alization)                                                                                       \n",
            "                                                                                                  \n",
            " dense_5 (Dense)                (None, 4)            804         ['batch_normalization[0][0]']    \n",
            "                                                                                                  \n",
            " activation_5 (Activation)      (None, 4)            0           ['dense_5[0][0]']                \n",
            "                                                                                                  \n",
            "==================================================================================================\n",
            "Total params: 9,528,854\n",
            "Trainable params: 9,528,454\n",
            "Non-trainable params: 400\n",
            "__________________________________________________________________________________________________\n"
          ]
        }
      ],
      "source": [
        "model.summary()"
      ]
    },
    {
      "cell_type": "code",
      "execution_count": null,
      "metadata": {
        "id": "w0d3LxDQz7k4"
      },
      "outputs": [],
      "source": [
        "model.compile(loss=tf.keras.losses.CategoricalCrossentropy(),\n",
        "              optimizer='Adam',\n",
        "              metrics=['accuracy'])"
      ]
    },
    {
      "cell_type": "code",
      "source": [
        "y_train_copy = y_train"
      ],
      "metadata": {
        "id": "U551rJUhE05K"
      },
      "execution_count": null,
      "outputs": []
    },
    {
      "cell_type": "code",
      "source": [
        "from sklearn.preprocessing import OneHotEncoder\n",
        "enc = OneHotEncoder(handle_unknown='ignore')\n",
        "enc.fit(np.array(y_train).reshape(-1, 1))\n",
        "enc.categories_"
      ],
      "metadata": {
        "id": "aoUKlNoWG3nG",
        "colab": {
          "base_uri": "https://localhost:8080/"
        },
        "outputId": "54c158df-a591-42ab-c78a-34611b3d85c5"
      },
      "execution_count": null,
      "outputs": [
        {
          "output_type": "execute_result",
          "data": {
            "text/plain": [
              "[array(['agree', 'disagree', 'discuss', 'unrelated'], dtype=object)]"
            ]
          },
          "metadata": {},
          "execution_count": 33
        }
      ]
    },
    {
      "cell_type": "code",
      "source": [
        "y_train = enc.transform(np.array(y_train).reshape(-1,1)).toarray()"
      ],
      "metadata": {
        "id": "gDb7tFjZGhBi"
      },
      "execution_count": null,
      "outputs": []
    },
    {
      "cell_type": "code",
      "source": [
        "y_train.shape"
      ],
      "metadata": {
        "id": "8DbXMbD8FlZh",
        "colab": {
          "base_uri": "https://localhost:8080/"
        },
        "outputId": "0ae5ca69-10a3-49f4-e758-af6824b8be0f"
      },
      "execution_count": null,
      "outputs": [
        {
          "output_type": "execute_result",
          "data": {
            "text/plain": [
              "(200, 4)"
            ]
          },
          "metadata": {},
          "execution_count": 35
        }
      ]
    },
    {
      "cell_type": "code",
      "source": [
        "tf.keras.utils.plot_model(model, show_shapes=True)"
      ],
      "metadata": {
        "id": "tWhD_MJCUbRd",
        "colab": {
          "base_uri": "https://localhost:8080/",
          "height": 1000
        },
        "outputId": "134f320a-1776-4348-fde8-6a1f75bdec7b"
      },
      "execution_count": null,
      "outputs": [
        {
          "output_type": "execute_result",
          "data": {
            "image/png": "[encoded data removed]",
            "text/plain": [
              "<IPython.core.display.Image object>"
            ]
          },
          "metadata": {},
          "execution_count": 36
        }
      ]
    },
    {
      "cell_type": "code",
      "source": [
        "# train_data = tf.data.Dataset().from_tensor_slices((X_train, y_train))\n",
        "# train_data = train_data.map(map_func=[neural_embed_model, stastical_features, external_features], num_parrallel_calls=tf.data.AUTOTUNE)\n",
        "# train_data = train_data.shuffle(buffer_size=1000).batch(batch_size=32).prefetch(buffer_size=tf.data.AUTOTUNE)\n",
        "\n",
        "# test_data = tf.data.Dataset().from_tensor_slices((X_test, y_test)).map(map_func=[neural_embed_model, stastical_features, external_features], num_parallel_calls=tf.data.AUTOTUNE).batch(32).prefetch(tf.data.AUTOTUNE).cache()"
      ],
      "metadata": {
        "id": "S9kzxKKi8gC0"
      },
      "execution_count": null,
      "outputs": []
    },
    {
      "cell_type": "code",
      "source": [
        "f1 = neural_embed_model(X_train)\n",
        "f2 = stastical_features(X_train)\n",
        "f3 = external_features(X_train)"
      ],
      "metadata": {
        "colab": {
          "base_uri": "https://localhost:8080/"
        },
        "id": "vUOYjFw1Mk-a",
        "outputId": "0faca38c-af82-43e6-ddbe-0ca522c3ab81"
      },
      "execution_count": null,
      "outputs": [
        {
          "output_type": "stream",
          "name": "stdout",
          "text": [
            "150\n",
            "285\n",
            "74\n",
            "317\n",
            "216\n",
            "93\n",
            "587\n",
            "188\n",
            "185\n",
            "533\n",
            "398\n",
            "237\n",
            "130\n",
            "340\n",
            "252\n",
            "197\n",
            "470\n",
            "207\n",
            "56\n",
            "326\n",
            "242\n",
            "738\n",
            "413\n",
            "4797\n",
            "278\n",
            "416\n",
            "243\n",
            "469\n",
            "234\n",
            "139\n",
            "621\n",
            "331\n",
            "627\n",
            "634\n",
            "187\n",
            "824\n",
            "107\n",
            "193\n",
            "233\n",
            "65\n",
            "250\n",
            "16\n",
            "260\n",
            "335\n",
            "566\n",
            "309\n",
            "179\n",
            "174\n",
            "485\n",
            "427\n",
            "11\n",
            "294\n",
            "600\n",
            "573\n",
            "135\n",
            "342\n",
            "272\n",
            "2206\n",
            "366\n",
            "388\n",
            "356\n",
            "182\n",
            "518\n",
            "820\n",
            "267\n",
            "988\n",
            "212\n",
            "346\n",
            "109\n",
            "180\n",
            "628\n",
            "459\n",
            "359\n",
            "296\n",
            "218\n",
            "554\n",
            "251\n",
            "399\n",
            "375\n",
            "486\n",
            "274\n",
            "488\n",
            "818\n"
          ]
        }
      ]
    },
    {
      "cell_type": "code",
      "source": [
        "history = model.fit([f1, f2, f3],\n",
        "                    tf.constant(y_train),\n",
        "                    epochs=10,\n",
        "                    batch_size=100,\n",
        "                    validation_split=0.2)"
      ],
      "metadata": {
        "id": "9HrpMTRuJ6x2",
        "colab": {
          "base_uri": "https://localhost:8080/"
        },
        "outputId": "31cf0fac-2856-4ada-fb5c-529e51a57904"
      },
      "execution_count": null,
      "outputs": [
        {
          "output_type": "stream",
          "name": "stdout",
          "text": [
            "Epoch 1/10\n",
            "2/2 [==============================] - 2s 271ms/step - loss: 1.5172 - accuracy: 0.2313 - val_loss: 3.7598 - val_accuracy: 0.2500\n",
            "Epoch 2/10\n",
            "2/2 [==============================] - 0s 50ms/step - loss: 0.8057 - accuracy: 0.8438 - val_loss: 2.7835 - val_accuracy: 0.2500\n",
            "Epoch 3/10\n",
            "2/2 [==============================] - 0s 33ms/step - loss: 0.4703 - accuracy: 0.9500 - val_loss: 2.2550 - val_accuracy: 0.2500\n",
            "Epoch 4/10\n",
            "2/2 [==============================] - 0s 33ms/step - loss: 0.2595 - accuracy: 0.9750 - val_loss: 1.9379 - val_accuracy: 0.2750\n",
            "Epoch 5/10\n",
            "2/2 [==============================] - 0s 32ms/step - loss: 0.1435 - accuracy: 0.9937 - val_loss: 1.7343 - val_accuracy: 0.3000\n",
            "Epoch 6/10\n",
            "2/2 [==============================] - 0s 34ms/step - loss: 0.0917 - accuracy: 1.0000 - val_loss: 1.5845 - val_accuracy: 0.3000\n",
            "Epoch 7/10\n",
            "2/2 [==============================] - 0s 35ms/step - loss: 0.0793 - accuracy: 0.9937 - val_loss: 1.4807 - val_accuracy: 0.3250\n",
            "Epoch 8/10\n",
            "2/2 [==============================] - 0s 37ms/step - loss: 0.0537 - accuracy: 1.0000 - val_loss: 1.4085 - val_accuracy: 0.3750\n",
            "Epoch 9/10\n",
            "2/2 [==============================] - 0s 34ms/step - loss: 0.0330 - accuracy: 1.0000 - val_loss: 1.3557 - val_accuracy: 0.3750\n",
            "Epoch 10/10\n",
            "2/2 [==============================] - 0s 41ms/step - loss: 0.0252 - accuracy: 1.0000 - val_loss: 1.3153 - val_accuracy: 0.3500\n"
          ]
        }
      ]
    },
    {
      "cell_type": "code",
      "source": [
        "model.save('/content/drive/MyDrive/Fake News Detection/my_4_by_1000_percent_trained_model')"
      ],
      "metadata": {
        "id": "mSNW-nsRe88J"
      },
      "execution_count": null,
      "outputs": []
    },
    {
      "cell_type": "code",
      "source": [
        "!wget https://raw.githubusercontent.com/mrdbourke/tensorflow-deep-learning/main/extras/helper_functions.py"
      ],
      "metadata": {
        "colab": {
          "base_uri": "https://localhost:8080/"
        },
        "id": "rxlhlF10gTdt",
        "outputId": "3659b940-1ed3-4df1-e76d-29395c034208"
      },
      "execution_count": null,
      "outputs": [
        {
          "output_type": "stream",
          "name": "stdout",
          "text": [
            "--2022-10-15 12:04:48--  https://raw.githubusercontent.com/mrdbourke/tensorflow-deep-learning/main/extras/helper_functions.py\n",
            "Resolving raw.githubusercontent.com (raw.githubusercontent.com)... 185.199.110.133, 185.199.111.133, 185.199.109.133, ...\n",
            "Connecting to raw.githubusercontent.com (raw.githubusercontent.com)|185.199.110.133|:443... connected.\n",
            "HTTP request sent, awaiting response... 200 OK\n",
            "Length: 10246 (10K) [text/plain]\n",
            "Saving to: ‘helper_functions.py’\n",
            "\n",
            "\rhelper_functions.py   0%[                    ]       0  --.-KB/s               \rhelper_functions.py 100%[===================>]  10.01K  --.-KB/s    in 0s      \n",
            "\n",
            "2022-10-15 12:04:48 (78.1 MB/s) - ‘helper_functions.py’ saved [10246/10246]\n",
            "\n"
          ]
        }
      ]
    },
    {
      "cell_type": "code",
      "source": [
        "from helper_functions import *"
      ],
      "metadata": {
        "id": "MqBZmzHfiE9q"
      },
      "execution_count": null,
      "outputs": []
    },
    {
      "cell_type": "code",
      "source": [
        "plot_loss_curves(history)"
      ],
      "metadata": {
        "colab": {
          "base_uri": "https://localhost:8080/",
          "height": 573
        },
        "id": "PwX_oT5AiKt7",
        "outputId": "14b03645-484a-41bb-be8c-36f825aba055"
      },
      "execution_count": null,
      "outputs": [
        {
          "output_type": "display_data",
          "data": {
            "text/plain": [
              "<Figure size 432x288 with 1 Axes>"
            ],
            "image/png": "[encoded data removed]"
          },
          "metadata": {
            "needs_background": "light"
          }
        },
        {
          "output_type": "display_data",
          "data": {
            "text/plain": [
              "<Figure size 432x288 with 1 Axes>"
            ],
            "image/png": "[encoded data removed]"
          },
          "metadata": {
            "needs_background": "light"
          }
        }
      ]
    },
    {
      "cell_type": "markdown",
      "source": [
        "## Training on full dataset"
      ],
      "metadata": {
        "id": "nCjNarkwimmg"
      }
    },
    {
      "cell_type": "code",
      "source": [
        "df = df_store\n",
        "df"
      ],
      "metadata": {
        "colab": {
          "base_uri": "https://localhost:8080/",
          "height": 424
        },
        "id": "Ybrbeynjiw9K",
        "outputId": "504e4ebd-0078-418a-d12c-e43d361a9f3d"
      },
      "execution_count": null,
      "outputs": [
        {
          "output_type": "execute_result",
          "data": {
            "text/plain": [
              "                                                Headline  Body_ID     Stance  \\\n",
              "0      Police find mass graves with at least '15 bodi...      712  unrelated   \n",
              "1      Hundreds of Palestinians flee floods in Gaza a...      158      agree   \n",
              "2      Christian Bale passes on role of Steve Jobs, a...      137  unrelated   \n",
              "3      HBO and Apple in Talks for $15/Month Apple TV ...     1034  unrelated   \n",
              "4      Spider burrowed through tourist's stomach and ...     1923   disagree   \n",
              "...                                                  ...      ...        ...   \n",
              "49967  Urgent: The Leader of ISIL 'Abu Bakr al-Baghda...     1681  unrelated   \n",
              "49968  Brian Williams slams social media for speculat...     2419  unrelated   \n",
              "49969  Mexico Says Missing Students Not Found In Firs...     1156      agree   \n",
              "49970  US Lawmaker: Ten ISIS Fighters Have Been Appre...     1012    discuss   \n",
              "49971  Shots Heard In Alleged Brown Shooting Recordin...     2044  unrelated   \n",
              "\n",
              "                                             articleBody  \n",
              "0      Danny Boyle is directing the untitled film\\n\\n...  \n",
              "1      Hundreds of Palestinians were evacuated from t...  \n",
              "2      30-year-old Moscow resident was hospitalized w...  \n",
              "3      (Reuters) - A Canadian soldier was shot at the...  \n",
              "4      Fear not arachnophobes, the story of Bunbury's...  \n",
              "...                                                  ...  \n",
              "49967  (CNN) -- Boko Haram laughed off Nigeria's anno...  \n",
              "49968  Along with unveiling the Apple Watch earlier t...  \n",
              "49969  The bodies found in a mass grave were confirme...  \n",
              "49970  Rep. Duncan Hunter (R-CA) told Greta Van Suste...  \n",
              "49971  A married TV actor who met a young woman and k...  \n",
              "\n",
              "[49972 rows x 4 columns]"
            ],
            "text/html": [
              "\n",
              "  <div id=\"df-ad205d17-fd26-4f69-8992-beb17f5363db\">\n",
              "    <div class=\"colab-df-container\">\n",
              "      <div>\n",
              "<style scoped>\n",
              "    .dataframe tbody tr th:only-of-type {\n",
              "        vertical-align: middle;\n",
              "    }\n",
              "\n",
              "    .dataframe tbody tr th {\n",
              "        vertical-align: top;\n",
              "    }\n",
              "\n",
              "    .dataframe thead th {\n",
              "        text-align: right;\n",
              "    }\n",
              "</style>\n",
              "<table border=\"1\" class=\"dataframe\">\n",
              "  <thead>\n",
              "    <tr style=\"text-align: right;\">\n",
              "      <th></th>\n",
              "      <th>Headline</th>\n",
              "      <th>Body_ID</th>\n",
              "      <th>Stance</th>\n",
              "      <th>articleBody</th>\n",
              "    </tr>\n",
              "  </thead>\n",
              "  <tbody>\n",
              "    <tr>\n",
              "      <th>0</th>\n",
              "      <td>Police find mass graves with at least '15 bodi...</td>\n",
              "      <td>712</td>\n",
              "      <td>unrelated</td>\n",
              "      <td>Danny Boyle is directing the untitled film\\n\\n...</td>\n",
              "    </tr>\n",
              "    <tr>\n",
              "      <th>1</th>\n",
              "      <td>Hundreds of Palestinians flee floods in Gaza a...</td>\n",
              "      <td>158</td>\n",
              "      <td>agree</td>\n",
              "      <td>Hundreds of Palestinians were evacuated from t...</td>\n",
              "    </tr>\n",
              "    <tr>\n",
              "      <th>2</th>\n",
              "      <td>Christian Bale passes on role of Steve Jobs, a...</td>\n",
              "      <td>137</td>\n",
              "      <td>unrelated</td>\n",
              "      <td>30-year-old Moscow resident was hospitalized w...</td>\n",
              "    </tr>\n",
              "    <tr>\n",
              "      <th>3</th>\n",
              "      <td>HBO and Apple in Talks for $15/Month Apple TV ...</td>\n",
              "      <td>1034</td>\n",
              "      <td>unrelated</td>\n",
              "      <td>(Reuters) - A Canadian soldier was shot at the...</td>\n",
              "    </tr>\n",
              "    <tr>\n",
              "      <th>4</th>\n",
              "      <td>Spider burrowed through tourist's stomach and ...</td>\n",
              "      <td>1923</td>\n",
              "      <td>disagree</td>\n",
              "      <td>Fear not arachnophobes, the story of Bunbury's...</td>\n",
              "    </tr>\n",
              "    <tr>\n",
              "      <th>...</th>\n",
              "      <td>...</td>\n",
              "      <td>...</td>\n",
              "      <td>...</td>\n",
              "      <td>...</td>\n",
              "    </tr>\n",
              "    <tr>\n",
              "      <th>49967</th>\n",
              "      <td>Urgent: The Leader of ISIL 'Abu Bakr al-Baghda...</td>\n",
              "      <td>1681</td>\n",
              "      <td>unrelated</td>\n",
              "      <td>(CNN) -- Boko Haram laughed off Nigeria's anno...</td>\n",
              "    </tr>\n",
              "    <tr>\n",
              "      <th>49968</th>\n",
              "      <td>Brian Williams slams social media for speculat...</td>\n",
              "      <td>2419</td>\n",
              "      <td>unrelated</td>\n",
              "      <td>Along with unveiling the Apple Watch earlier t...</td>\n",
              "    </tr>\n",
              "    <tr>\n",
              "      <th>49969</th>\n",
              "      <td>Mexico Says Missing Students Not Found In Firs...</td>\n",
              "      <td>1156</td>\n",
              "      <td>agree</td>\n",
              "      <td>The bodies found in a mass grave were confirme...</td>\n",
              "    </tr>\n",
              "    <tr>\n",
              "      <th>49970</th>\n",
              "      <td>US Lawmaker: Ten ISIS Fighters Have Been Appre...</td>\n",
              "      <td>1012</td>\n",
              "      <td>discuss</td>\n",
              "      <td>Rep. Duncan Hunter (R-CA) told Greta Van Suste...</td>\n",
              "    </tr>\n",
              "    <tr>\n",
              "      <th>49971</th>\n",
              "      <td>Shots Heard In Alleged Brown Shooting Recordin...</td>\n",
              "      <td>2044</td>\n",
              "      <td>unrelated</td>\n",
              "      <td>A married TV actor who met a young woman and k...</td>\n",
              "    </tr>\n",
              "  </tbody>\n",
              "</table>\n",
              "<p>49972 rows × 4 columns</p>\n",
              "</div>\n",
              "      <button class=\"colab-df-convert\" onclick=\"convertToInteractive('df-ad205d17-fd26-4f69-8992-beb17f5363db')\"\n",
              "              title=\"Convert this dataframe to an interactive table.\"\n",
              "              style=\"display:none;\">\n",
              "        \n",
              "  <svg xmlns=\"http://www.w3.org/2000/svg\" height=\"24px\"viewBox=\"0 0 24 24\"\n",
              "       width=\"24px\">\n",
              "    <path d=\"M0 0h24v24H0V0z\" fill=\"none\"/>\n",
              "    <path d=\"M18.56 5.44l.94 2.06.94-2.06 2.06-.94-2.06-.94-.94-2.06-.94 2.06-2.06.94zm-11 1L8.5 8.5l.94-2.06 2.06-.94-2.06-.94L8.5 2.5l-.94 2.06-2.06.94zm10 10l.94 2.06.94-2.06 2.06-.94-2.06-.94-.94-2.06-.94 2.06-2.06.94z\"/><path d=\"M17.41 7.96l-1.37-1.37c-.4-.4-.92-.59-1.43-.59-.52 0-1.04.2-1.43.59L10.3 9.45l-7.72 7.72c-.78.78-.78 2.05 0 2.83L4 21.41c.39.39.9.59 1.41.59.51 0 1.02-.2 1.41-.59l7.78-7.78 2.81-2.81c.8-.78.8-2.07 0-2.86zM5.41 20L4 18.59l7.72-7.72 1.47 1.35L5.41 20z\"/>\n",
              "  </svg>\n",
              "      </button>\n",
              "      \n",
              "  <style>\n",
              "    .colab-df-container {\n",
              "      display:flex;\n",
              "      flex-wrap:wrap;\n",
              "      gap: 12px;\n",
              "    }\n",
              "\n",
              "    .colab-df-convert {\n",
              "      background-color: #E8F0FE;\n",
              "      border: none;\n",
              "      border-radius: 50%;\n",
              "      cursor: pointer;\n",
              "      display: none;\n",
              "      fill: #1967D2;\n",
              "      height: 32px;\n",
              "      padding: 0 0 0 0;\n",
              "      width: 32px;\n",
              "    }\n",
              "\n",
              "    .colab-df-convert:hover {\n",
              "      background-color: #E2EBFA;\n",
              "      box-shadow: 0px 1px 2px rgba(60, 64, 67, 0.3), 0px 1px 3px 1px rgba(60, 64, 67, 0.15);\n",
              "      fill: #174EA6;\n",
              "    }\n",
              "\n",
              "    [theme=dark] .colab-df-convert {\n",
              "      background-color: #3B4455;\n",
              "      fill: #D2E3FC;\n",
              "    }\n",
              "\n",
              "    [theme=dark] .colab-df-convert:hover {\n",
              "      background-color: #434B5C;\n",
              "      box-shadow: 0px 1px 3px 1px rgba(0, 0, 0, 0.15);\n",
              "      filter: drop-shadow(0px 1px 2px rgba(0, 0, 0, 0.3));\n",
              "      fill: #FFFFFF;\n",
              "    }\n",
              "  </style>\n",
              "\n",
              "      <script>\n",
              "        const buttonEl =\n",
              "          document.querySelector('#df-ad205d17-fd26-4f69-8992-beb17f5363db button.colab-df-convert');\n",
              "        buttonEl.style.display =\n",
              "          google.colab.kernel.accessAllowed ? 'block' : 'none';\n",
              "\n",
              "        async function convertToInteractive(key) {\n",
              "          const element = document.querySelector('#df-ad205d17-fd26-4f69-8992-beb17f5363db');\n",
              "          const dataTable =\n",
              "            await google.colab.kernel.invokeFunction('convertToInteractive',\n",
              "                                                     [key], {});\n",
              "          if (!dataTable) return;\n",
              "\n",
              "          const docLinkHtml = 'Like what you see? Visit the ' +\n",
              "            '<a target=\"_blank\" href=https://colab.research.google.com/notebooks/data_table.ipynb>data table notebook</a>'\n",
              "            + ' to learn more about interactive tables.';\n",
              "          element.innerHTML = '';\n",
              "          dataTable['output_type'] = 'display_data';\n",
              "          await google.colab.output.renderOutput(dataTable, element);\n",
              "          const docLink = document.createElement('div');\n",
              "          docLink.innerHTML = docLinkHtml;\n",
              "          element.appendChild(docLink);\n",
              "        }\n",
              "      </script>\n",
              "    </div>\n",
              "  </div>\n",
              "  "
            ]
          },
          "metadata": {},
          "execution_count": 47
        }
      ]
    },
    {
      "cell_type": "code",
      "source": [
        "X_train = df.drop('Stance', axis=1)\n",
        "y_train = df[\"Stance\"]\n",
        "X_train.head(), y_train.head()"
      ],
      "metadata": {
        "colab": {
          "base_uri": "https://localhost:8080/"
        },
        "id": "iExhjZp4ixw_",
        "outputId": "42a57ba1-74a6-41e9-a4f4-b389827984d4"
      },
      "execution_count": null,
      "outputs": [
        {
          "output_type": "execute_result",
          "data": {
            "text/plain": [
              "(                                            Headline  Body_ID  \\\n",
              " 0  Police find mass graves with at least '15 bodi...      712   \n",
              " 1  Hundreds of Palestinians flee floods in Gaza a...      158   \n",
              " 2  Christian Bale passes on role of Steve Jobs, a...      137   \n",
              " 3  HBO and Apple in Talks for $15/Month Apple TV ...     1034   \n",
              " 4  Spider burrowed through tourist's stomach and ...     1923   \n",
              " \n",
              "                                          articleBody  \n",
              " 0  Danny Boyle is directing the untitled film\\n\\n...  \n",
              " 1  Hundreds of Palestinians were evacuated from t...  \n",
              " 2  30-year-old Moscow resident was hospitalized w...  \n",
              " 3  (Reuters) - A Canadian soldier was shot at the...  \n",
              " 4  Fear not arachnophobes, the story of Bunbury's...  , 0    unrelated\n",
              " 1        agree\n",
              " 2    unrelated\n",
              " 3    unrelated\n",
              " 4     disagree\n",
              " Name: Stance, dtype: object)"
            ]
          },
          "metadata": {},
          "execution_count": 48
        }
      ]
    },
    {
      "cell_type": "code",
      "source": [
        "from sklearn.preprocessing import OneHotEncoder\n",
        "enc = OneHotEncoder(handle_unknown='ignore')\n",
        "enc.fit(np.array(y_train).reshape(-1, 1))\n",
        "y_train = enc.transform(np.array(y_train).reshape(-1,1)).toarray()\n",
        "y_train.shape"
      ],
      "metadata": {
        "colab": {
          "base_uri": "https://localhost:8080/"
        },
        "id": "PfNfdGtMjfyh",
        "outputId": "bbbe02d6-73fe-416c-d221-78548a12181b"
      },
      "execution_count": null,
      "outputs": [
        {
          "output_type": "execute_result",
          "data": {
            "text/plain": [
              "(49972, 4)"
            ]
          },
          "metadata": {},
          "execution_count": 49
        }
      ]
    },
    {
      "cell_type": "code",
      "source": [
        "stff = stastical_features(X_train)\n",
        "stff.shape"
      ],
      "metadata": {
        "colab": {
          "base_uri": "https://localhost:8080/"
        },
        "id": "2qtyNUTnkafy",
        "outputId": "0dd8f835-7e0c-4a1e-98a4-d1372edfae63"
      },
      "execution_count": null,
      "outputs": [
        {
          "output_type": "execute_result",
          "data": {
            "text/plain": [
              "(49972, 10000)"
            ]
          },
          "metadata": {},
          "execution_count": 52
        }
      ]
    },
    {
      "cell_type": "code",
      "source": [
        "f1 = neural_embed_model(X_train)\n",
        "f3 = external_features(X_train)"
      ],
      "metadata": {
        "colab": {
          "base_uri": "https://localhost:8080/"
        },
        "id": "uMwcqrg7lF-5",
        "outputId": "6c01975a-a2cc-4d4e-fcfd-44e6f5320d11"
      },
      "execution_count": null,
      "outputs": [
        {
          "output_type": "stream",
          "name": "stdout",
          "text": [
            "Loading model parameters...\n",
            "Compiling encoders...\n",
            "Loading tables...\n",
            "Packing up...\n"
          ]
        }
      ]
    },
    {
      "cell_type": "code",
      "source": [
        "model2 = final_model()\n",
        "\n",
        "model2.compile(loss=tf.keras.losses.CategoricalCrossentropy(),\n",
        "              optimizer='Adam',\n",
        "              metrics=['accuracy'])\n",
        "\n",
        "history2 = model2.fit([f1, stff, f3],\n",
        "                    tf.constant(y_train),\n",
        "                    epochs=10,\n",
        "                    batch_size=100,\n",
        "                    validation_split=0.2)"
      ],
      "metadata": {
        "id": "Y-BymHtRkOvR"
      },
      "execution_count": null,
      "outputs": []
    },
    {
      "cell_type": "code",
      "source": [
        "plot_loss_curves(history2)"
      ],
      "metadata": {
        "id": "Leeau36olfDo"
      },
      "execution_count": null,
      "outputs": []
    },
    {
      "cell_type": "code",
      "source": [
        "model.save('/content/drive/MyDrive/Fake News Detection/full_percent_trained_model')"
      ],
      "metadata": {
        "id": "gdfJ1gm5lkWm"
      },
      "execution_count": null,
      "outputs": []
    },
    {
      "cell_type": "markdown",
      "source": [
        "**For Prediction call me or refer to google.**\n",
        "\n",
        "```\n",
        "new_arr = model.predict([arr1, arr2, arr3])\n",
        "\n",
        "# if model is saved in drive\n",
        "model = tf.keras.load_model(path_to_the_model)\n",
        "new_arr = model.predict([arr1, arr2, arr3])\n",
        "```"
      ],
      "metadata": {
        "id": "q5T0tmnIHnBA"
      }
    }
  ],
  "metadata": {
    "accelerator": "GPU",
    "colab": {
      "collapsed_sections": [],
      "provenance": [],
      "mount_file_id": "1ZH6NAUVd6ssbA-EZ04f9FcNiCe7Nftsp",
      "authorship_tag": "ABX9TyNDqI24HHc6Om6YLRYKpBW+",
      "include_colab_link": true
    },
    "gpuClass": "standard",
    "kernelspec": {
      "display_name": "Python 3",
      "name": "python3"
    },
    "language_info": {
      "name": "python"
    }
  },
  "nbformat": 4,
  "nbformat_minor": 0
}